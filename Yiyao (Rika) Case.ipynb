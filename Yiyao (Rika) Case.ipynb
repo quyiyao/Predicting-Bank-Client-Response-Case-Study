{
 "cells": [
  {
   "cell_type": "code",
   "execution_count": 1,
   "id": "b74e5693-0b4f-4d49-93e9-6e03e86e1a44",
   "metadata": {},
   "outputs": [],
   "source": [
    "import pandas as pd\n",
    "import numpy as np"
   ]
  },
  {
   "cell_type": "code",
   "execution_count": 2,
   "id": "b8acbbbb-7b24-4750-95f2-392a2a5e4647",
   "metadata": {},
   "outputs": [],
   "source": [
    "raw_data = pd.read_csv('Case Study Data.csv')"
   ]
  },
  {
   "cell_type": "code",
   "execution_count": 3,
   "id": "340a3147-92b5-4bf6-b83c-92d681bcf50c",
   "metadata": {
    "tags": []
   },
   "outputs": [
    {
     "data": {
      "text/html": [
       "<div>\n",
       "<style scoped>\n",
       "    .dataframe tbody tr th:only-of-type {\n",
       "        vertical-align: middle;\n",
       "    }\n",
       "\n",
       "    .dataframe tbody tr th {\n",
       "        vertical-align: top;\n",
       "    }\n",
       "\n",
       "    .dataframe thead th {\n",
       "        text-align: right;\n",
       "    }\n",
       "</style>\n",
       "<table border=\"1\" class=\"dataframe\">\n",
       "  <thead>\n",
       "    <tr style=\"text-align: right;\">\n",
       "      <th></th>\n",
       "      <th>age</th>\n",
       "      <th>job</th>\n",
       "      <th>marital</th>\n",
       "      <th>education</th>\n",
       "      <th>default</th>\n",
       "      <th>housing</th>\n",
       "      <th>loan</th>\n",
       "      <th>contact</th>\n",
       "      <th>month</th>\n",
       "      <th>day_of_week</th>\n",
       "      <th>...</th>\n",
       "      <th>campaign</th>\n",
       "      <th>pdays</th>\n",
       "      <th>previous</th>\n",
       "      <th>poutcome</th>\n",
       "      <th>emp.var.rate</th>\n",
       "      <th>cons.price.idx</th>\n",
       "      <th>cons.conf.idx</th>\n",
       "      <th>euribor3m</th>\n",
       "      <th>nr.employed</th>\n",
       "      <th>y</th>\n",
       "    </tr>\n",
       "  </thead>\n",
       "  <tbody>\n",
       "    <tr>\n",
       "      <th>0</th>\n",
       "      <td>56.0</td>\n",
       "      <td>housemaid</td>\n",
       "      <td>married</td>\n",
       "      <td>basic.4y</td>\n",
       "      <td>no</td>\n",
       "      <td>no</td>\n",
       "      <td>no</td>\n",
       "      <td>telephone</td>\n",
       "      <td>may</td>\n",
       "      <td>mon</td>\n",
       "      <td>...</td>\n",
       "      <td>1</td>\n",
       "      <td>999</td>\n",
       "      <td>0</td>\n",
       "      <td>nonexistent</td>\n",
       "      <td>1.1</td>\n",
       "      <td>93.994</td>\n",
       "      <td>-36.4</td>\n",
       "      <td>4.857</td>\n",
       "      <td>5191.0</td>\n",
       "      <td>no</td>\n",
       "    </tr>\n",
       "    <tr>\n",
       "      <th>1</th>\n",
       "      <td>57.0</td>\n",
       "      <td>services</td>\n",
       "      <td>married</td>\n",
       "      <td>high.school</td>\n",
       "      <td>unknown</td>\n",
       "      <td>no</td>\n",
       "      <td>no</td>\n",
       "      <td>telephone</td>\n",
       "      <td>may</td>\n",
       "      <td>mon</td>\n",
       "      <td>...</td>\n",
       "      <td>1</td>\n",
       "      <td>999</td>\n",
       "      <td>0</td>\n",
       "      <td>nonexistent</td>\n",
       "      <td>1.1</td>\n",
       "      <td>93.994</td>\n",
       "      <td>-36.4</td>\n",
       "      <td>4.857</td>\n",
       "      <td>5191.0</td>\n",
       "      <td>no</td>\n",
       "    </tr>\n",
       "    <tr>\n",
       "      <th>2</th>\n",
       "      <td>37.0</td>\n",
       "      <td>services</td>\n",
       "      <td>married</td>\n",
       "      <td>high.school</td>\n",
       "      <td>no</td>\n",
       "      <td>yes</td>\n",
       "      <td>no</td>\n",
       "      <td>telephone</td>\n",
       "      <td>may</td>\n",
       "      <td>mon</td>\n",
       "      <td>...</td>\n",
       "      <td>1</td>\n",
       "      <td>999</td>\n",
       "      <td>0</td>\n",
       "      <td>nonexistent</td>\n",
       "      <td>1.1</td>\n",
       "      <td>NaN</td>\n",
       "      <td>-36.4</td>\n",
       "      <td>4.857</td>\n",
       "      <td>5191.0</td>\n",
       "      <td>no</td>\n",
       "    </tr>\n",
       "    <tr>\n",
       "      <th>3</th>\n",
       "      <td>40.0</td>\n",
       "      <td>admin.</td>\n",
       "      <td>married</td>\n",
       "      <td>basic.6y</td>\n",
       "      <td>no</td>\n",
       "      <td>no</td>\n",
       "      <td>no</td>\n",
       "      <td>telephone</td>\n",
       "      <td>may</td>\n",
       "      <td>mon</td>\n",
       "      <td>...</td>\n",
       "      <td>1</td>\n",
       "      <td>999</td>\n",
       "      <td>0</td>\n",
       "      <td>nonexistent</td>\n",
       "      <td>1.1</td>\n",
       "      <td>93.994</td>\n",
       "      <td>-36.4</td>\n",
       "      <td>4.857</td>\n",
       "      <td>5191.0</td>\n",
       "      <td>no</td>\n",
       "    </tr>\n",
       "    <tr>\n",
       "      <th>4</th>\n",
       "      <td>56.0</td>\n",
       "      <td>services</td>\n",
       "      <td>married</td>\n",
       "      <td>high.school</td>\n",
       "      <td>no</td>\n",
       "      <td>no</td>\n",
       "      <td>yes</td>\n",
       "      <td>telephone</td>\n",
       "      <td>may</td>\n",
       "      <td>mon</td>\n",
       "      <td>...</td>\n",
       "      <td>1</td>\n",
       "      <td>999</td>\n",
       "      <td>0</td>\n",
       "      <td>nonexistent</td>\n",
       "      <td>1.1</td>\n",
       "      <td>NaN</td>\n",
       "      <td>-36.4</td>\n",
       "      <td>4.857</td>\n",
       "      <td>5191.0</td>\n",
       "      <td>no</td>\n",
       "    </tr>\n",
       "  </tbody>\n",
       "</table>\n",
       "<p>5 rows × 21 columns</p>\n",
       "</div>"
      ],
      "text/plain": [
       "    age        job  marital    education  default housing loan    contact  \\\n",
       "0  56.0  housemaid  married     basic.4y       no      no   no  telephone   \n",
       "1  57.0   services  married  high.school  unknown      no   no  telephone   \n",
       "2  37.0   services  married  high.school       no     yes   no  telephone   \n",
       "3  40.0     admin.  married     basic.6y       no      no   no  telephone   \n",
       "4  56.0   services  married  high.school       no      no  yes  telephone   \n",
       "\n",
       "  month day_of_week  ...  campaign  pdays  previous     poutcome emp.var.rate  \\\n",
       "0   may         mon  ...         1    999         0  nonexistent          1.1   \n",
       "1   may         mon  ...         1    999         0  nonexistent          1.1   \n",
       "2   may         mon  ...         1    999         0  nonexistent          1.1   \n",
       "3   may         mon  ...         1    999         0  nonexistent          1.1   \n",
       "4   may         mon  ...         1    999         0  nonexistent          1.1   \n",
       "\n",
       "   cons.price.idx  cons.conf.idx  euribor3m  nr.employed   y  \n",
       "0          93.994          -36.4      4.857       5191.0  no  \n",
       "1          93.994          -36.4      4.857       5191.0  no  \n",
       "2             NaN          -36.4      4.857       5191.0  no  \n",
       "3          93.994          -36.4      4.857       5191.0  no  \n",
       "4             NaN          -36.4      4.857       5191.0  no  \n",
       "\n",
       "[5 rows x 21 columns]"
      ]
     },
     "execution_count": 3,
     "metadata": {},
     "output_type": "execute_result"
    }
   ],
   "source": [
    "# make sure data is correctly read in\n",
    "raw_data.head()"
   ]
  },
  {
   "cell_type": "code",
   "execution_count": 4,
   "id": "232db6ec-cd29-418f-a6aa-6fdbc3675f2e",
   "metadata": {
    "tags": []
   },
   "outputs": [
    {
     "name": "stdout",
     "output_type": "stream",
     "text": [
      "<class 'pandas.core.frame.DataFrame'>\n",
      "RangeIndex: 41188 entries, 0 to 41187\n",
      "Data columns (total 21 columns):\n",
      " #   Column          Non-Null Count  Dtype  \n",
      "---  ------          --------------  -----  \n",
      " 0   age             37444 non-null  float64\n",
      " 1   job             41188 non-null  object \n",
      " 2   marital         41188 non-null  object \n",
      " 3   education       41188 non-null  object \n",
      " 4   default         41188 non-null  object \n",
      " 5   housing         41188 non-null  object \n",
      " 6   loan            41188 non-null  object \n",
      " 7   contact         41188 non-null  object \n",
      " 8   month           41188 non-null  object \n",
      " 9   day_of_week     41188 non-null  object \n",
      " 10  duration        41188 non-null  int64  \n",
      " 11  campaign        41188 non-null  int64  \n",
      " 12  pdays           41188 non-null  int64  \n",
      " 13  previous        41188 non-null  int64  \n",
      " 14  poutcome        41188 non-null  object \n",
      " 15  emp.var.rate    41188 non-null  float64\n",
      " 16  cons.price.idx  36040 non-null  float64\n",
      " 17  cons.conf.idx   41188 non-null  float64\n",
      " 18  euribor3m       41188 non-null  float64\n",
      " 19  nr.employed     41188 non-null  float64\n",
      " 20  y               41188 non-null  object \n",
      "dtypes: float64(6), int64(4), object(11)\n",
      "memory usage: 6.6+ MB\n"
     ]
    }
   ],
   "source": [
    "# make sure all the changes we will make in the following steps do not impact the original dataset\n",
    "df = raw_data.copy()\n",
    "\n",
    "# check data types and null values\n",
    "df.info()"
   ]
  },
  {
   "cell_type": "code",
   "execution_count": 5,
   "id": "db364a7b-3ca2-4fcd-86a2-8f752769e869",
   "metadata": {
    "tags": []
   },
   "outputs": [
    {
     "data": {
      "text/plain": [
       "age               3744\n",
       "job                  0\n",
       "marital              0\n",
       "education            0\n",
       "default              0\n",
       "housing              0\n",
       "loan                 0\n",
       "contact              0\n",
       "month                0\n",
       "day_of_week          0\n",
       "duration             0\n",
       "campaign             0\n",
       "pdays                0\n",
       "previous             0\n",
       "poutcome             0\n",
       "emp.var.rate         0\n",
       "cons.price.idx    5148\n",
       "cons.conf.idx        0\n",
       "euribor3m            0\n",
       "nr.employed          0\n",
       "y                    0\n",
       "dtype: int64"
      ]
     },
     "execution_count": 5,
     "metadata": {},
     "output_type": "execute_result"
    }
   ],
   "source": [
    "# more straightforward to see which variables has how many lines of null entries\n",
    "df.isnull().sum()"
   ]
  },
  {
   "cell_type": "markdown",
   "id": "860f1932-a3b6-4f15-8fb1-c2a9f07c072e",
   "metadata": {},
   "source": [
    "<h1> Deal with NaN entry </h1>\n",
    "<li>Observe null value detected in columns: 1. 'age' 2. cons.price.idx</li>\n",
    "\n",
    "<li>Since 'cons.price.idx' is not client specific, I try to find similar rows with non-null entries in this field, and get the value there to replace the null value here.</li>\n",
    "<p style=\"margin-left:40px;margin-right:100px\">\n",
    "    Specifically, what I am thinking is: since both cons.price.idx and cons.conf.idx is a monthly indicator, and we have a both columns 'month' and 'cons.conf.idx' non-null <br /> => If two rows with the same 'month' and 'cons.conf.idx' entries, then these two rows should also have same 'cons.price.idx' entry. <br />\n",
    "    => Using this logic, we can impute null entries for 'cons.price.idx'\n",
    "<li>Age is client specific; it is not directly related to any other variables, so we can not get that exact number from manipulating the dataset. <p style=\"margin-left:40px;margin-right:100px\">\n",
    "    => We might try to predict 'age' using other columns, but the accuracy cannot be guaranteed (might add more noise to the data). Additionally, since we have such a large dataset, and the null entries are just 9% (3744/41188) of the total dataset, it would not hurt much if we just delete them. <br /> => So we decide to proceed by deleting those rows. </li>"
   ]
  },
  {
   "cell_type": "code",
   "execution_count": 6,
   "id": "d0edc3a8-1706-4fe9-afd3-5d3910c02311",
   "metadata": {},
   "outputs": [
    {
     "name": "stderr",
     "output_type": "stream",
     "text": [
      "<ipython-input-6-ff5547625c81>:3: SettingWithCopyWarning: \n",
      "A value is trying to be set on a copy of a slice from a DataFrame.\n",
      "Try using .loc[row_indexer,col_indexer] = value instead\n",
      "\n",
      "See the caveats in the documentation: https://pandas.pydata.org/pandas-docs/stable/user_guide/indexing.html#returning-a-view-versus-a-copy\n",
      "  df_not_null['month_cpi_cci'] = df_not_null[['month', 'cons.price.idx', 'cons.conf.idx']].apply(tuple, axis = 1)\n"
     ]
    }
   ],
   "source": [
    "# separate non-null data so that we can get unique entries easier\n",
    "df_not_null = df[df['cons.price.idx'].notnull()]\n",
    "df_not_null['month_cpi_cci'] = df_not_null[['month', 'cons.price.idx', 'cons.conf.idx']].apply(tuple, axis = 1)\n",
    "unique = df_not_null['month_cpi_cci'].unique()\n",
    "\n",
    "\n",
    "# create a dictionary, key = (month, cons.conf.idx), value = cons.price.idx\n",
    "unique_dict = dict(((x,z), y) for x, y, z in unique)\n",
    "unique_dict\n",
    "\n",
    "\n",
    "# create tuple pairs in the whole dataframe, so that we can use this as the mapping key in the following step\n",
    "df['month_cci'] = df[['month', 'cons.conf.idx']].apply(tuple, axis = 1)\n",
    "\n",
    "\n",
    "# the function replace null entries with valid ones\n",
    "def fix_cpi(row):\n",
    "    if row['month_cci'] in unique_dict.keys() and pd.isnull(row['cons.price.idx']):\n",
    "        row['cons.price.idx'] = unique_dict.get(row['month_cci'])        \n",
    "    return row"
   ]
  },
  {
   "cell_type": "code",
   "execution_count": 7,
   "id": "83918327-6dea-4da9-89f7-66304803c9e5",
   "metadata": {
    "tags": []
   },
   "outputs": [
    {
     "data": {
      "text/plain": [
       "age               3744\n",
       "job                  0\n",
       "marital              0\n",
       "education            0\n",
       "default              0\n",
       "housing              0\n",
       "loan                 0\n",
       "contact              0\n",
       "month                0\n",
       "day_of_week          0\n",
       "duration             0\n",
       "campaign             0\n",
       "pdays                0\n",
       "previous             0\n",
       "poutcome             0\n",
       "emp.var.rate         0\n",
       "cons.price.idx       0\n",
       "cons.conf.idx        0\n",
       "euribor3m            0\n",
       "nr.employed          0\n",
       "y                    0\n",
       "month_cci            0\n",
       "dtype: int64"
      ]
     },
     "execution_count": 7,
     "metadata": {},
     "output_type": "execute_result"
    }
   ],
   "source": [
    "df = df.apply(lambda x: fix_cpi(x), axis = 1)\n",
    "\n",
    "\n",
    "# check if null values are populated\n",
    "df.isnull().sum()"
   ]
  },
  {
   "cell_type": "code",
   "execution_count": 8,
   "id": "a0339c25-8bc9-4c98-867e-1d2e37b60739",
   "metadata": {
    "tags": []
   },
   "outputs": [
    {
     "data": {
      "text/plain": [
       "age               0\n",
       "job               0\n",
       "marital           0\n",
       "education         0\n",
       "default           0\n",
       "housing           0\n",
       "loan              0\n",
       "contact           0\n",
       "month             0\n",
       "day_of_week       0\n",
       "duration          0\n",
       "campaign          0\n",
       "pdays             0\n",
       "previous          0\n",
       "poutcome          0\n",
       "emp.var.rate      0\n",
       "cons.price.idx    0\n",
       "cons.conf.idx     0\n",
       "euribor3m         0\n",
       "nr.employed       0\n",
       "y                 0\n",
       "dtype: int64"
      ]
     },
     "execution_count": 8,
     "metadata": {},
     "output_type": "execute_result"
    }
   ],
   "source": [
    "# deletes the rows with null entry in age\n",
    "# again, the data we throw away does not have too much weight on the whole dataset, so it is a valid move\n",
    "df = df[df['age'].notnull()]\n",
    "\n",
    "\n",
    "# from this point on, we no longer need the column 'month_cci', so we drop it\n",
    "df.drop(columns = ['month_cci'], inplace = True)\n",
    "\n",
    "\n",
    "# check if null values are removed; check if last column is removed\n",
    "df.isnull().sum()"
   ]
  },
  {
   "cell_type": "markdown",
   "id": "0e8a5270-f284-4ae7-8210-d7f98730322c",
   "metadata": {},
   "source": [
    "<h1>Deal with Deplicates</h1>\n",
    "<li>We see the existence of duplicates. But the problem here is we do not have a unique key like client_id in the dataset to differentiate each client. So we are not sure if these duplicate are double entries for the same client, or it is just two client share the exact same information</li>\n",
    "<li>My consideration here is that, it is possible for clients to share same age, job, etc. But it is very unlikely for them to share 11 exact same features, among which we even have 'duration' measured in seconds. </li>\n",
    "<p style=\"margin-left:40px;margin-right:100px\">\n",
    "    Based on this, my judgement is that <br />\n",
    "    => These are duplicates, and need to be deleted\n"
   ]
  },
  {
   "cell_type": "code",
   "execution_count": 9,
   "id": "ea4e984c-c567-42a5-aa3e-aab072a5ec16",
   "metadata": {},
   "outputs": [
    {
     "data": {
      "text/plain": [
       "array([False,  True])"
      ]
     },
     "execution_count": 9,
     "metadata": {},
     "output_type": "execute_result"
    }
   ],
   "source": [
    "df.duplicated().unique()"
   ]
  },
  {
   "cell_type": "code",
   "execution_count": 10,
   "id": "ed327964-eda3-4eb6-8038-d5b46390a81f",
   "metadata": {
    "tags": []
   },
   "outputs": [
    {
     "data": {
      "text/plain": [
       "1265     124\n",
       "1266     124\n",
       "12260     88\n",
       "12261     88\n",
       "14155    331\n",
       "14234    331\n",
       "16819     43\n",
       "16956     43\n",
       "18464    128\n",
       "18465    128\n",
       "20072     33\n",
       "20216     33\n",
       "20531    127\n",
       "20534    127\n",
       "25183    123\n",
       "25217    123\n",
       "28476    114\n",
       "28477    114\n",
       "32505    348\n",
       "32516    348\n",
       "36950    252\n",
       "36951    252\n",
       "38255    120\n",
       "38281    120\n",
       "Name: duration, dtype: int64"
      ]
     },
     "execution_count": 10,
     "metadata": {},
     "output_type": "execute_result"
    }
   ],
   "source": [
    "df[df.duplicated(keep=False)]['duration']"
   ]
  },
  {
   "cell_type": "code",
   "execution_count": 11,
   "id": "758b0cae-c0f1-453c-879a-525a39e9ef3d",
   "metadata": {},
   "outputs": [
    {
     "data": {
      "text/plain": [
       "24"
      ]
     },
     "execution_count": 11,
     "metadata": {},
     "output_type": "execute_result"
    }
   ],
   "source": [
    "# 24/2 = 12 duplicates to be deleted\n",
    "len(df[df.duplicated(keep=False)]['duration'])"
   ]
  },
  {
   "cell_type": "code",
   "execution_count": 12,
   "id": "e43ef787-f26e-4554-b5c5-92edd94ca520",
   "metadata": {
    "tags": []
   },
   "outputs": [
    {
     "name": "stdout",
     "output_type": "stream",
     "text": [
      "<class 'pandas.core.frame.DataFrame'>\n",
      "Int64Index: 37432 entries, 0 to 41187\n",
      "Data columns (total 21 columns):\n",
      " #   Column          Non-Null Count  Dtype  \n",
      "---  ------          --------------  -----  \n",
      " 0   age             37432 non-null  float64\n",
      " 1   job             37432 non-null  object \n",
      " 2   marital         37432 non-null  object \n",
      " 3   education       37432 non-null  object \n",
      " 4   default         37432 non-null  object \n",
      " 5   housing         37432 non-null  object \n",
      " 6   loan            37432 non-null  object \n",
      " 7   contact         37432 non-null  object \n",
      " 8   month           37432 non-null  object \n",
      " 9   day_of_week     37432 non-null  object \n",
      " 10  duration        37432 non-null  int64  \n",
      " 11  campaign        37432 non-null  int64  \n",
      " 12  pdays           37432 non-null  int64  \n",
      " 13  previous        37432 non-null  int64  \n",
      " 14  poutcome        37432 non-null  object \n",
      " 15  emp.var.rate    37432 non-null  float64\n",
      " 16  cons.price.idx  37432 non-null  float64\n",
      " 17  cons.conf.idx   37432 non-null  float64\n",
      " 18  euribor3m       37432 non-null  float64\n",
      " 19  nr.employed     37432 non-null  float64\n",
      " 20  y               37432 non-null  object \n",
      "dtypes: float64(6), int64(4), object(11)\n",
      "memory usage: 6.3+ MB\n"
     ]
    }
   ],
   "source": [
    "# delete duplicates\n",
    "df.drop_duplicates(inplace = True)\n",
    "\n",
    "\n",
    "# check again that the previous step is succussful\n",
    "# 37444 - 12 = 37432\n",
    "df.info()"
   ]
  },
  {
   "cell_type": "markdown",
   "id": "7182774d-b5ec-488a-8f02-8788e8954b0e",
   "metadata": {},
   "source": [
    "<h1>Detail Look at Numeric Values</h1>\n",
    "\n",
    "### 'pdays'\n",
    "\n",
    "   <br/> 1. large standard deviation <br/> 2. mean is close to 999 (which has no numeric meaning, but indicate 'not previously contacted'  <br/> 3. Not too many distinct values <br/> 4. Except 999, all other days are within a month <br/>  => Consider transform this variable using range (within 10 days; 10 to 20 days; 20 to 30 days; over 30) <br/> => Take it as categorical when modeling <br/> \n",
    "\n"
   ]
  },
  {
   "cell_type": "code",
   "execution_count": 13,
   "id": "e7864ac0-3701-4e4f-8af9-a1a3a5a146ad",
   "metadata": {
    "tags": []
   },
   "outputs": [
    {
     "data": {
      "text/html": [
       "<div>\n",
       "<style scoped>\n",
       "    .dataframe tbody tr th:only-of-type {\n",
       "        vertical-align: middle;\n",
       "    }\n",
       "\n",
       "    .dataframe tbody tr th {\n",
       "        vertical-align: top;\n",
       "    }\n",
       "\n",
       "    .dataframe thead th {\n",
       "        text-align: right;\n",
       "    }\n",
       "</style>\n",
       "<table border=\"1\" class=\"dataframe\">\n",
       "  <thead>\n",
       "    <tr style=\"text-align: right;\">\n",
       "      <th></th>\n",
       "      <th>age</th>\n",
       "      <th>duration</th>\n",
       "      <th>campaign</th>\n",
       "      <th>pdays</th>\n",
       "      <th>previous</th>\n",
       "      <th>emp.var.rate</th>\n",
       "      <th>cons.price.idx</th>\n",
       "      <th>cons.conf.idx</th>\n",
       "      <th>euribor3m</th>\n",
       "      <th>nr.employed</th>\n",
       "    </tr>\n",
       "  </thead>\n",
       "  <tbody>\n",
       "    <tr>\n",
       "      <th>count</th>\n",
       "      <td>37432.000000</td>\n",
       "      <td>37432.000000</td>\n",
       "      <td>37432.000000</td>\n",
       "      <td>37432.000000</td>\n",
       "      <td>37432.000000</td>\n",
       "      <td>37432.000000</td>\n",
       "      <td>37432.000000</td>\n",
       "      <td>37432.000000</td>\n",
       "      <td>37432.000000</td>\n",
       "      <td>37432.000000</td>\n",
       "    </tr>\n",
       "    <tr>\n",
       "      <th>mean</th>\n",
       "      <td>39.999653</td>\n",
       "      <td>258.295977</td>\n",
       "      <td>2.567135</td>\n",
       "      <td>962.446303</td>\n",
       "      <td>0.172820</td>\n",
       "      <td>0.085384</td>\n",
       "      <td>93.576571</td>\n",
       "      <td>-40.496134</td>\n",
       "      <td>3.625405</td>\n",
       "      <td>5167.168949</td>\n",
       "    </tr>\n",
       "    <tr>\n",
       "      <th>std</th>\n",
       "      <td>10.414278</td>\n",
       "      <td>258.193449</td>\n",
       "      <td>2.767477</td>\n",
       "      <td>186.978916</td>\n",
       "      <td>0.495688</td>\n",
       "      <td>1.569035</td>\n",
       "      <td>0.578310</td>\n",
       "      <td>4.624262</td>\n",
       "      <td>1.732808</td>\n",
       "      <td>72.179805</td>\n",
       "    </tr>\n",
       "    <tr>\n",
       "      <th>min</th>\n",
       "      <td>17.000000</td>\n",
       "      <td>0.000000</td>\n",
       "      <td>1.000000</td>\n",
       "      <td>0.000000</td>\n",
       "      <td>0.000000</td>\n",
       "      <td>-3.400000</td>\n",
       "      <td>92.201000</td>\n",
       "      <td>-50.800000</td>\n",
       "      <td>0.634000</td>\n",
       "      <td>4963.600000</td>\n",
       "    </tr>\n",
       "    <tr>\n",
       "      <th>25%</th>\n",
       "      <td>32.000000</td>\n",
       "      <td>103.000000</td>\n",
       "      <td>1.000000</td>\n",
       "      <td>999.000000</td>\n",
       "      <td>0.000000</td>\n",
       "      <td>-1.800000</td>\n",
       "      <td>93.075000</td>\n",
       "      <td>-42.700000</td>\n",
       "      <td>1.344000</td>\n",
       "      <td>5099.100000</td>\n",
       "    </tr>\n",
       "    <tr>\n",
       "      <th>50%</th>\n",
       "      <td>38.000000</td>\n",
       "      <td>180.000000</td>\n",
       "      <td>2.000000</td>\n",
       "      <td>999.000000</td>\n",
       "      <td>0.000000</td>\n",
       "      <td>1.100000</td>\n",
       "      <td>93.749000</td>\n",
       "      <td>-41.800000</td>\n",
       "      <td>4.857000</td>\n",
       "      <td>5191.000000</td>\n",
       "    </tr>\n",
       "    <tr>\n",
       "      <th>75%</th>\n",
       "      <td>47.000000</td>\n",
       "      <td>320.000000</td>\n",
       "      <td>3.000000</td>\n",
       "      <td>999.000000</td>\n",
       "      <td>0.000000</td>\n",
       "      <td>1.400000</td>\n",
       "      <td>93.994000</td>\n",
       "      <td>-36.400000</td>\n",
       "      <td>4.961000</td>\n",
       "      <td>5228.100000</td>\n",
       "    </tr>\n",
       "    <tr>\n",
       "      <th>max</th>\n",
       "      <td>98.000000</td>\n",
       "      <td>4918.000000</td>\n",
       "      <td>56.000000</td>\n",
       "      <td>999.000000</td>\n",
       "      <td>7.000000</td>\n",
       "      <td>1.400000</td>\n",
       "      <td>94.767000</td>\n",
       "      <td>-26.900000</td>\n",
       "      <td>5.045000</td>\n",
       "      <td>5228.100000</td>\n",
       "    </tr>\n",
       "  </tbody>\n",
       "</table>\n",
       "</div>"
      ],
      "text/plain": [
       "                age      duration      campaign         pdays      previous  \\\n",
       "count  37432.000000  37432.000000  37432.000000  37432.000000  37432.000000   \n",
       "mean      39.999653    258.295977      2.567135    962.446303      0.172820   \n",
       "std       10.414278    258.193449      2.767477    186.978916      0.495688   \n",
       "min       17.000000      0.000000      1.000000      0.000000      0.000000   \n",
       "25%       32.000000    103.000000      1.000000    999.000000      0.000000   \n",
       "50%       38.000000    180.000000      2.000000    999.000000      0.000000   \n",
       "75%       47.000000    320.000000      3.000000    999.000000      0.000000   \n",
       "max       98.000000   4918.000000     56.000000    999.000000      7.000000   \n",
       "\n",
       "       emp.var.rate  cons.price.idx  cons.conf.idx     euribor3m   nr.employed  \n",
       "count  37432.000000    37432.000000   37432.000000  37432.000000  37432.000000  \n",
       "mean       0.085384       93.576571     -40.496134      3.625405   5167.168949  \n",
       "std        1.569035        0.578310       4.624262      1.732808     72.179805  \n",
       "min       -3.400000       92.201000     -50.800000      0.634000   4963.600000  \n",
       "25%       -1.800000       93.075000     -42.700000      1.344000   5099.100000  \n",
       "50%        1.100000       93.749000     -41.800000      4.857000   5191.000000  \n",
       "75%        1.400000       93.994000     -36.400000      4.961000   5228.100000  \n",
       "max        1.400000       94.767000     -26.900000      5.045000   5228.100000  "
      ]
     },
     "execution_count": 13,
     "metadata": {},
     "output_type": "execute_result"
    }
   ],
   "source": [
    "df.describe()"
   ]
  },
  {
   "cell_type": "code",
   "execution_count": 14,
   "id": "004c8cd8-088f-4e38-931d-0a65479def83",
   "metadata": {},
   "outputs": [
    {
     "data": {
      "text/plain": [
       "array([999,   6,   4,   5,   1,   0,   3,  10,   7,   8,   9,  11,   2,\n",
       "        12,  13,  14,  15,  16,  21,  17,  18,  22,  25,  26,  19,  27,\n",
       "        20])"
      ]
     },
     "execution_count": 14,
     "metadata": {},
     "output_type": "execute_result"
    }
   ],
   "source": [
    "df['pdays'].unique()"
   ]
  },
  {
   "cell_type": "code",
   "execution_count": 15,
   "id": "d06c6b6b-6bb5-47b1-aba6-e8432035e5e0",
   "metadata": {},
   "outputs": [],
   "source": [
    "#df.loc[ df[“column_name”] == “some_value”, “column_name”] = “value”\n",
    "\n",
    "df.loc[df['pdays'] < 10, 'pdays'] = 0\n",
    "df.loc[(df['pdays'] < 20) & (df['pdays'] >= 10), 'pdays'] = 1\n",
    "df.loc[(df['pdays'] < 30) & (df['pdays'] >= 20), 'pdays'] = 2\n",
    "df.loc[df['pdays'] > 30, 'pdays'] = 3"
   ]
  },
  {
   "cell_type": "code",
   "execution_count": 16,
   "id": "6958d700-ea5a-4474-8e3d-9e763e778374",
   "metadata": {},
   "outputs": [
    {
     "data": {
      "text/plain": [
       "array([3, 0, 1, 2])"
      ]
     },
     "execution_count": 16,
     "metadata": {},
     "output_type": "execute_result"
    }
   ],
   "source": [
    "df['pdays'].unique()"
   ]
  },
  {
   "cell_type": "markdown",
   "id": "df3d3c90-c029-46f8-8704-0d9f20434180",
   "metadata": {},
   "source": [
    "### 'age' & 'campaign' & 'previous' \n",
    "<li> May or may not have some outliers  <br/> => use box plot to confirm </li> <li> We found that outliers do exist. But since the range of these variables are not large, and the number of rows are not too many, we decide to retain the data. Because if we delete them all, we might end up losing some impact. So we lieave it here, and let the machine learn</li>\n"
   ]
  },
  {
   "cell_type": "code",
   "execution_count": 17,
   "id": "643ae91f-380e-4dc9-ae45-14a232afca8a",
   "metadata": {
    "tags": []
   },
   "outputs": [
    {
     "name": "stderr",
     "output_type": "stream",
     "text": [
      "/opt/anaconda3/lib/python3.8/site-packages/seaborn/_decorators.py:36: FutureWarning: Pass the following variable as a keyword arg: x. From version 0.12, the only valid positional argument will be `data`, and passing other arguments without an explicit keyword will result in an error or misinterpretation.\n",
      "  warnings.warn(\n"
     ]
    },
    {
     "data": {
      "text/plain": [
       "<AxesSubplot:xlabel='age'>"
      ]
     },
     "execution_count": 17,
     "metadata": {},
     "output_type": "execute_result"
    },
    {
     "data": {
      "image/png": "[encoded data removed]",
      "text/plain": [
       "<Figure size 432x288 with 1 Axes>"
      ]
     },
     "metadata": {
      "needs_background": "light"
     },
     "output_type": "display_data"
    }
   ],
   "source": [
    "import seaborn as sns\n",
    "\n",
    "sns.boxplot(df['age'])"
   ]
  },
  {
   "cell_type": "code",
   "execution_count": 18,
   "id": "2f27cc1f-80b0-4fba-bb7d-422e8ae7eac3",
   "metadata": {},
   "outputs": [
    {
     "name": "stdout",
     "output_type": "stream",
     "text": [
      "382 9\n"
     ]
    }
   ],
   "source": [
    "        '''\n",
    "        382 rows is only 1% of the data; \n",
    "        The tail is not too far from the body, so doesn't matter too much\n",
    "        => will not interfere at this point\n",
    "        '''\n",
    "\n",
    "print(len(df[df['age']>70]),len(df[df['age']>90]))"
   ]
  },
  {
   "cell_type": "code",
   "execution_count": 19,
   "id": "83a6f057-f8c4-4b21-9294-001716651c92",
   "metadata": {
    "tags": []
   },
   "outputs": [
    {
     "name": "stderr",
     "output_type": "stream",
     "text": [
      "/opt/anaconda3/lib/python3.8/site-packages/seaborn/_decorators.py:36: FutureWarning: Pass the following variable as a keyword arg: x. From version 0.12, the only valid positional argument will be `data`, and passing other arguments without an explicit keyword will result in an error or misinterpretation.\n",
      "  warnings.warn(\n"
     ]
    },
    {
     "data": {
      "text/plain": [
       "<AxesSubplot:xlabel='campaign'>"
      ]
     },
     "execution_count": 19,
     "metadata": {},
     "output_type": "execute_result"
    },
    {
     "data": {
      "image/png": "[encoded data removed]",
      "text/plain": [
       "<Figure size 432x288 with 1 Axes>"
      ]
     },
     "metadata": {
      "needs_background": "light"
     },
     "output_type": "display_data"
    }
   ],
   "source": [
    "sns.boxplot(df['campaign'])"
   ]
  },
  {
   "cell_type": "code",
   "execution_count": 20,
   "id": "04961c04-e877-435a-bfc8-5cc00edaaf4a",
   "metadata": {},
   "outputs": [
    {
     "name": "stdout",
     "output_type": "stream",
     "text": [
      "1622 1\n"
     ]
    },
    {
     "data": {
      "text/html": [
       "<div>\n",
       "<style scoped>\n",
       "    .dataframe tbody tr th:only-of-type {\n",
       "        vertical-align: middle;\n",
       "    }\n",
       "\n",
       "    .dataframe tbody tr th {\n",
       "        vertical-align: top;\n",
       "    }\n",
       "\n",
       "    .dataframe thead th {\n",
       "        text-align: right;\n",
       "    }\n",
       "</style>\n",
       "<table border=\"1\" class=\"dataframe\">\n",
       "  <thead>\n",
       "    <tr style=\"text-align: right;\">\n",
       "      <th></th>\n",
       "      <th>age</th>\n",
       "      <th>job</th>\n",
       "      <th>marital</th>\n",
       "      <th>education</th>\n",
       "      <th>default</th>\n",
       "      <th>housing</th>\n",
       "      <th>loan</th>\n",
       "      <th>contact</th>\n",
       "      <th>month</th>\n",
       "      <th>day_of_week</th>\n",
       "      <th>...</th>\n",
       "      <th>campaign</th>\n",
       "      <th>pdays</th>\n",
       "      <th>previous</th>\n",
       "      <th>poutcome</th>\n",
       "      <th>emp.var.rate</th>\n",
       "      <th>cons.price.idx</th>\n",
       "      <th>cons.conf.idx</th>\n",
       "      <th>euribor3m</th>\n",
       "      <th>nr.employed</th>\n",
       "      <th>y</th>\n",
       "    </tr>\n",
       "  </thead>\n",
       "  <tbody>\n",
       "    <tr>\n",
       "      <th>4107</th>\n",
       "      <td>32.0</td>\n",
       "      <td>admin.</td>\n",
       "      <td>married</td>\n",
       "      <td>university.degree</td>\n",
       "      <td>unknown</td>\n",
       "      <td>unknown</td>\n",
       "      <td>unknown</td>\n",
       "      <td>telephone</td>\n",
       "      <td>may</td>\n",
       "      <td>mon</td>\n",
       "      <td>...</td>\n",
       "      <td>56</td>\n",
       "      <td>3</td>\n",
       "      <td>0</td>\n",
       "      <td>nonexistent</td>\n",
       "      <td>1.1</td>\n",
       "      <td>93.994</td>\n",
       "      <td>-36.4</td>\n",
       "      <td>4.858</td>\n",
       "      <td>5191.0</td>\n",
       "      <td>no</td>\n",
       "    </tr>\n",
       "  </tbody>\n",
       "</table>\n",
       "<p>1 rows × 21 columns</p>\n",
       "</div>"
      ],
      "text/plain": [
       "       age     job  marital          education  default  housing     loan  \\\n",
       "4107  32.0  admin.  married  university.degree  unknown  unknown  unknown   \n",
       "\n",
       "        contact month day_of_week  ...  campaign  pdays  previous  \\\n",
       "4107  telephone   may         mon  ...        56      3         0   \n",
       "\n",
       "         poutcome emp.var.rate  cons.price.idx  cons.conf.idx  euribor3m  \\\n",
       "4107  nonexistent          1.1          93.994          -36.4      4.858   \n",
       "\n",
       "      nr.employed   y  \n",
       "4107       5191.0  no  \n",
       "\n",
       "[1 rows x 21 columns]"
      ]
     },
     "execution_count": 20,
     "metadata": {},
     "output_type": "execute_result"
    }
   ],
   "source": [
    "# delete the most far away outlier\n",
    "\n",
    "print(len(df[df['campaign']>7]),len(df[df['campaign']>50]))\n",
    "\n",
    "df[df['campaign'] > 50]"
   ]
  },
  {
   "cell_type": "code",
   "execution_count": 21,
   "id": "bafcdbf1-f114-4a70-be2e-b7e569dbf326",
   "metadata": {},
   "outputs": [],
   "source": [
    "df.drop(4107, inplace = True)"
   ]
  },
  {
   "cell_type": "code",
   "execution_count": 22,
   "id": "b8282833-2014-43c5-8f18-e98144cb46ea",
   "metadata": {
    "tags": []
   },
   "outputs": [
    {
     "name": "stderr",
     "output_type": "stream",
     "text": [
      "/opt/anaconda3/lib/python3.8/site-packages/seaborn/_decorators.py:36: FutureWarning: Pass the following variable as a keyword arg: x. From version 0.12, the only valid positional argument will be `data`, and passing other arguments without an explicit keyword will result in an error or misinterpretation.\n",
      "  warnings.warn(\n"
     ]
    },
    {
     "data": {
      "text/plain": [
       "<AxesSubplot:xlabel='previous'>"
      ]
     },
     "execution_count": 22,
     "metadata": {},
     "output_type": "execute_result"
    },
    {
     "data": {
      "image/png": "[encoded data removed]",
      "text/plain": [
       "<Figure size 432x288 with 1 Axes>"
      ]
     },
     "metadata": {
      "needs_background": "light"
     },
     "output_type": "display_data"
    }
   ],
   "source": [
    "sns.boxplot(df['previous'])"
   ]
  },
  {
   "cell_type": "code",
   "execution_count": 23,
   "id": "3a40bc33-c640-4340-84f3-941921aab74f",
   "metadata": {},
   "outputs": [
    {
     "name": "stdout",
     "output_type": "stream",
     "text": [
      "965\n"
     ]
    }
   ],
   "source": [
    "# not going to delete since the range of this variable is small enough\n",
    "print(len(df[df['previous']>1]))"
   ]
  },
  {
   "cell_type": "markdown",
   "id": "8838d33f-19c2-4204-a80a-d8e681aff4ec",
   "metadata": {},
   "source": [
    "### 'duration' \n",
    "<li>Not going to have this available at the point of making prediction </li>\n",
    "<li> => remove"
   ]
  },
  {
   "cell_type": "code",
   "execution_count": 24,
   "id": "b200c737-5229-41d0-bb9a-39e9e5b8472b",
   "metadata": {
    "tags": []
   },
   "outputs": [],
   "source": [
    "df.drop(['duration'], axis = 1, inplace = True)"
   ]
  },
  {
   "cell_type": "markdown",
   "id": "6dfb526f-28a0-4aa8-af3e-596671583954",
   "metadata": {},
   "source": [
    "#### Other variables such as 'cons.price.idx' are not sprcific to client; ignore"
   ]
  },
  {
   "cell_type": "markdown",
   "id": "8fcbcb9a-d713-44be-b8ee-deeedb3fdb26",
   "metadata": {},
   "source": [
    "<h1>Relationships Among Variables</h1>\n",
    "\n",
    "<li>'pdays' and 'previous' <br/> => I think these two are measuring very different things according to definition. So I will not do any adjustment</li>\n",
    "\n",
    "<li>'cons.price.idx' and 'emp.var.rate'</li>\n",
    "<li>'cons.price.idx' and 'euribor3m'</li>\n",
    "<li>'cons.price.idx' and 'nr.employed'</li>\n",
    "<li>'euribor3m' and 'emp.var.rate'</li>\n",
    "<li>'nr.employed' and 'emp.var.rate'</li>\n",
    "<li>'nr.employed' and 'euribor3m' <br/> => Correlation exists for these variables, but relationship is not definite\n",
    "    <br/> => It's a possible option for us to retain one variable out of the two similar ones, or combine some of them with arithmatic means or other methods. \n",
    "    <br/> => But to avoid my action might be too arbitrary and end up adding noise to the data, I will leave all these macro factors here, let the model tell their influence\n",
    "</li>\n"
   ]
  },
  {
   "cell_type": "code",
   "execution_count": 25,
   "id": "56c06000-15c0-4d4f-bf64-28f77b1b0131",
   "metadata": {
    "tags": []
   },
   "outputs": [
    {
     "data": {
      "text/plain": [
       "<AxesSubplot:>"
      ]
     },
     "execution_count": 25,
     "metadata": {},
     "output_type": "execute_result"
    },
    {
     "data": {
      "image/png": "[encoded data removed]",
      "text/plain": [
       "<Figure size 720x720 with 2 Axes>"
      ]
     },
     "metadata": {
      "needs_background": "light"
     },
     "output_type": "display_data"
    }
   ],
   "source": [
    "import matplotlib.pyplot as plt\n",
    "\n",
    "correlation = df.corr()\n",
    "\n",
    "fig, ax = plt.subplots(figsize=(10,10))         \n",
    "sns.heatmap(correlation, xticklabels = correlation.columns, yticklabels = correlation.columns, \n",
    "            annot = True, linewidth = 0.5, ax = ax)\n"
   ]
  },
  {
   "cell_type": "code",
   "execution_count": 26,
   "id": "b997f949-6e28-4bd4-aee1-76afe8cfad54",
   "metadata": {
    "tags": []
   },
   "outputs": [
    {
     "data": {
      "text/plain": [
       "<seaborn.axisgrid.PairGrid at 0x7f869c7f04f0>"
      ]
     },
     "execution_count": 26,
     "metadata": {},
     "output_type": "execute_result"
    },
    {
     "data": {
      "image/png": "[encoded data removed]",
      "text/plain": [
       "<Figure size 720x720 with 20 Axes>"
      ]
     },
     "metadata": {
      "needs_background": "light"
     },
     "output_type": "display_data"
    }
   ],
   "source": [
    "sns.pairplot(df[['cons.price.idx', 'euribor3m', 'nr.employed', 'emp.var.rate']])"
   ]
  },
  {
   "cell_type": "code",
   "execution_count": 27,
   "id": "40d72b11-f725-4439-916b-bf1741144f74",
   "metadata": {},
   "outputs": [
    {
     "data": {
      "text/plain": [
       "<seaborn.axisgrid.FacetGrid at 0x7f869c7fe040>"
      ]
     },
     "execution_count": 27,
     "metadata": {},
     "output_type": "execute_result"
    },
    {
     "data": {
      "image/png": "[encoded data removed]",
      "text/plain": [
       "<Figure size 437.625x360 with 1 Axes>"
      ]
     },
     "metadata": {
      "needs_background": "light"
     },
     "output_type": "display_data"
    }
   ],
   "source": [
    "sns.relplot(x = 'nr.employed', y = 'emp.var.rate', hue = 'cons.price.idx', data = df)"
   ]
  },
  {
   "cell_type": "markdown",
   "id": "7071d538-f6d0-478c-8678-b918af61f42a",
   "metadata": {},
   "source": [
    "<h1>Dive into Outcome Variable y</h1>\n",
    "\n",
    "#### Unbalanced Labels \n",
    "=> We might not just use prediction accuracy as an evaluation metric. Because the accuracy will be high even if we do nothing and simply set every 'y' = 'no' <br/> => Will need to play around with evaluation metrics</li>\n"
   ]
  },
  {
   "cell_type": "code",
   "execution_count": 28,
   "id": "8e054c3d-c7e3-4113-8d47-088a77c7a58c",
   "metadata": {},
   "outputs": [
    {
     "name": "stdout",
     "output_type": "stream",
     "text": [
      "# rows when client subscribe to the product = 4197\n",
      "Proportion of those rows in the whole dataset = 0.11212631241484332\n",
      "# of 'no' to # of 'yes' = 7.918513223731237\n"
     ]
    }
   ],
   "source": [
    "print('# rows when client subscribe to the product = ' + str(len(df[df['y'] == 'yes']))) \n",
    "print('Proportion of those rows in the whole dataset = ' + str(len(df[df['y'] == 'yes'])/len(df)))\n",
    "print(\"# of 'no' to # of 'yes' = \" + str(len(df[df['y'] == 'no'])/len(df[df['y'] == 'yes'])))"
   ]
  },
  {
   "cell_type": "code",
   "execution_count": 29,
   "id": "f6e3eacd-7e15-45f2-ba69-d93c1fa4fe4d",
   "metadata": {
    "tags": []
   },
   "outputs": [
    {
     "data": {
      "text/plain": [
       "[Text(0.5, 1.0, 'count of y variable')]"
      ]
     },
     "execution_count": 29,
     "metadata": {},
     "output_type": "execute_result"
    },
    {
     "data": {
      "image/png": "[encoded data removed]",
      "text/plain": [
       "<Figure size 432x288 with 1 Axes>"
      ]
     },
     "metadata": {
      "needs_background": "light"
     },
     "output_type": "display_data"
    }
   ],
   "source": [
    "sns.countplot(x = 'y', data = df).set(title = 'count of y variable')"
   ]
  },
  {
   "cell_type": "markdown",
   "id": "5e3dca9c-1f97-4242-922d-e7fd3a8d3e39",
   "metadata": {},
   "source": [
    "### Explore categorical variables' relationship with the outcome\n",
    "#### Job"
   ]
  },
  {
   "cell_type": "code",
   "execution_count": 30,
   "id": "efc369f0-9c71-4123-8fb0-d11cca13cdcc",
   "metadata": {},
   "outputs": [
    {
     "data": {
      "text/plain": [
       "[Text(0.5, 1.0, 'Job & y')]"
      ]
     },
     "execution_count": 30,
     "metadata": {},
     "output_type": "execute_result"
    },
    {
     "data": {
      "image/png": "[encoded data removed]",
      "text/plain": [
       "<Figure size 1152x576 with 1 Axes>"
      ]
     },
     "metadata": {
      "needs_background": "light"
     },
     "output_type": "display_data"
    }
   ],
   "source": [
    "# some variation \n",
    "# => keep \n",
    "fig, ax = plt.subplots(figsize=(16,8))\n",
    "sns.countplot(x = 'y', hue = 'job', data = df, linewidth = 0.5, ax = ax).set(title = 'Job & y')"
   ]
  },
  {
   "cell_type": "markdown",
   "id": "661d3a09-8a24-4005-b67f-70b8576dfd9a",
   "metadata": {},
   "source": [
    "#### Marital"
   ]
  },
  {
   "cell_type": "code",
   "execution_count": 31,
   "id": "56b2d7c7-f78a-4ebe-8ab5-d29f15de46d7",
   "metadata": {},
   "outputs": [
    {
     "data": {
      "text/plain": [
       "[Text(0.5, 1.0, 'Marital & y')]"
      ]
     },
     "execution_count": 31,
     "metadata": {},
     "output_type": "execute_result"
    },
    {
     "data": {
      "image/png": "[encoded data removed]",
      "text/plain": [
       "<Figure size 432x288 with 1 Axes>"
      ]
     },
     "metadata": {
      "needs_background": "light"
     },
     "output_type": "display_data"
    }
   ],
   "source": [
    "# Similar\n",
    "# => Delete\n",
    "sns.countplot(x = 'y', hue = 'marital', data = df).set(title = 'Marital & y')"
   ]
  },
  {
   "cell_type": "markdown",
   "id": "58df54ee-ab7e-4066-b52f-6b9e461da4c1",
   "metadata": {},
   "source": [
    "#### Education"
   ]
  },
  {
   "cell_type": "code",
   "execution_count": 32,
   "id": "734e556d-f53b-46b0-970f-b4674f004625",
   "metadata": {},
   "outputs": [
    {
     "data": {
      "text/plain": [
       "[Text(0.5, 1.0, 'Education & y')]"
      ]
     },
     "execution_count": 32,
     "metadata": {},
     "output_type": "execute_result"
    },
    {
     "data": {
      "image/png": "[encoded data removed]",
      "text/plain": [
       "<Figure size 1152x576 with 1 Axes>"
      ]
     },
     "metadata": {
      "needs_background": "light"
     },
     "output_type": "display_data"
    }
   ],
   "source": [
    "# some variation (especially basic.9y vs. professional.course)\n",
    "# => keep  \n",
    "fig, ax = plt.subplots(figsize=(16,8))\n",
    "sns.countplot(x = 'y', hue = 'education', data = df, linewidth = 0.5, ax = ax).set(title = 'Education & y')"
   ]
  },
  {
   "cell_type": "markdown",
   "id": "060f8dbb-abe8-4d05-a2e7-920317531758",
   "metadata": {},
   "source": [
    "#### Housing"
   ]
  },
  {
   "cell_type": "code",
   "execution_count": 33,
   "id": "a72985d7-cd3a-447e-917a-2246dec3bde0",
   "metadata": {},
   "outputs": [
    {
     "data": {
      "text/plain": [
       "[Text(0.5, 1.0, 'Housing & y')]"
      ]
     },
     "execution_count": 33,
     "metadata": {},
     "output_type": "execute_result"
    },
    {
     "data": {
      "image/png": "[encoded data removed]",
      "text/plain": [
       "<Figure size 432x288 with 1 Axes>"
      ]
     },
     "metadata": {
      "needs_background": "light"
     },
     "output_type": "display_data"
    }
   ],
   "source": [
    "# Similar shape, but some variation\n",
    "# => Might consider not using this variable in modeling\n",
    "# => I choose to keep it here, and let the model figure out if it has influence (since it only adds one column)\n",
    "sns.countplot(x = 'y', hue = 'housing', data = df).set(title = 'Housing & y')"
   ]
  },
  {
   "cell_type": "markdown",
   "id": "9c039432-7a86-4607-a0d2-b3a7f20063f3",
   "metadata": {},
   "source": [
    "#### Default"
   ]
  },
  {
   "cell_type": "code",
   "execution_count": 34,
   "id": "56511fc0-053e-49ec-9b96-fc2bfdb7d69e",
   "metadata": {},
   "outputs": [
    {
     "data": {
      "text/plain": [
       "[Text(0.5, 1.0, 'Default status & y')]"
      ]
     },
     "execution_count": 34,
     "metadata": {},
     "output_type": "execute_result"
    },
    {
     "data": {
      "image/png": "[encoded data removed]",
      "text/plain": [
       "<Figure size 432x288 with 1 Axes>"
      ]
     },
     "metadata": {
      "needs_background": "light"
     },
     "output_type": "display_data"
    }
   ],
   "source": [
    "# Similar shape\n",
    "# => delete\n",
    "sns.countplot(x = 'y', hue = 'default', data = df).set(title = 'Default status & y')"
   ]
  },
  {
   "cell_type": "markdown",
   "id": "ba801b58-59a2-446d-8d1d-19e5c93f1dd5",
   "metadata": {},
   "source": [
    "#### Loan"
   ]
  },
  {
   "cell_type": "code",
   "execution_count": 35,
   "id": "48961471-a63f-49fb-a6c2-4f8da9aa1367",
   "metadata": {},
   "outputs": [
    {
     "data": {
      "text/plain": [
       "[Text(0.5, 1.0, 'Loan & y')]"
      ]
     },
     "execution_count": 35,
     "metadata": {},
     "output_type": "execute_result"
    },
    {
     "data": {
      "image/png": "[encoded data removed]",
      "text/plain": [
       "<Figure size 432x288 with 1 Axes>"
      ]
     },
     "metadata": {
      "needs_background": "light"
     },
     "output_type": "display_data"
    }
   ],
   "source": [
    "# Similar shape\n",
    "# => delete\n",
    "sns.countplot(x = 'y', hue = 'loan', data = df).set(title = 'Loan & y')"
   ]
  },
  {
   "cell_type": "markdown",
   "id": "c55bfea7-fd75-474a-a84e-ea059ecc7808",
   "metadata": {},
   "source": [
    "#### Contact"
   ]
  },
  {
   "cell_type": "code",
   "execution_count": 36,
   "id": "ce15326a-5608-407b-9ae9-6a508bff794c",
   "metadata": {},
   "outputs": [
    {
     "data": {
      "text/plain": [
       "[Text(0.5, 1.0, 'Contact & y')]"
      ]
     },
     "execution_count": 36,
     "metadata": {},
     "output_type": "execute_result"
    },
    {
     "data": {
      "image/png": "[encoded data removed]",
      "text/plain": [
       "<Figure size 432x288 with 1 Axes>"
      ]
     },
     "metadata": {
      "needs_background": "light"
     },
     "output_type": "display_data"
    }
   ],
   "source": [
    "# Some variation\n",
    "# => keep\n",
    "sns.countplot(x = 'y', hue = 'contact', data = df).set(title = 'Contact & y')"
   ]
  },
  {
   "cell_type": "markdown",
   "id": "38e3f02c-72b4-4f81-ac81-853f8ae01db8",
   "metadata": {},
   "source": [
    "#### Month"
   ]
  },
  {
   "cell_type": "code",
   "execution_count": 37,
   "id": "6d291dc4-74a5-4c33-ab14-afaa601e788e",
   "metadata": {},
   "outputs": [
    {
     "data": {
      "text/plain": [
       "[Text(0.5, 1.0, 'Month & y')]"
      ]
     },
     "execution_count": 37,
     "metadata": {},
     "output_type": "execute_result"
    },
    {
     "data": {
      "image/png": "[encoded data removed]",
      "text/plain": [
       "<Figure size 1152x576 with 1 Axes>"
      ]
     },
     "metadata": {
      "needs_background": "light"
     },
     "output_type": "display_data"
    }
   ],
   "source": [
    "# Some variation\n",
    "# => Keep\n",
    "fig, ax = plt.subplots(figsize=(16,8))\n",
    "sns.countplot(x = 'y', hue = 'month', data = df, linewidth = 0.5, ax = ax).set(title = 'Month & y')"
   ]
  },
  {
   "cell_type": "markdown",
   "id": "8fd8db6b-0abe-4221-b118-c6281b8ee00f",
   "metadata": {},
   "source": [
    "#### day_of_week"
   ]
  },
  {
   "cell_type": "code",
   "execution_count": 38,
   "id": "033dd826-fe7a-488e-8cb0-6ef45af3e5ac",
   "metadata": {},
   "outputs": [
    {
     "data": {
      "text/plain": [
       "[Text(0.5, 1.0, 'day_od_week & y')]"
      ]
     },
     "execution_count": 38,
     "metadata": {},
     "output_type": "execute_result"
    },
    {
     "data": {
      "image/png": "[encoded data removed]",
      "text/plain": [
       "<Figure size 432x288 with 1 Axes>"
      ]
     },
     "metadata": {
      "needs_background": "light"
     },
     "output_type": "display_data"
    }
   ],
   "source": [
    "# some variation (mon vs tue)\n",
    "# => keep  \n",
    "sns.countplot(x = 'y', hue = 'day_of_week', data = df).set(title = 'day_od_week & y')"
   ]
  },
  {
   "cell_type": "markdown",
   "id": "5d5515b1-68e2-47e9-a128-8f94b7470b08",
   "metadata": {},
   "source": [
    "#### pdays"
   ]
  },
  {
   "cell_type": "code",
   "execution_count": 39,
   "id": "6998a390-4cfb-4c6f-96c6-8ae134de05cc",
   "metadata": {},
   "outputs": [
    {
     "name": "stderr",
     "output_type": "stream",
     "text": [
      "<ipython-input-39-0587c3e08383>:7: UserWarning: Matplotlib is currently using module://ipykernel.pylab.backend_inline, which is a non-GUI backend, so cannot show the figure.\n",
      "  fig.show()\n"
     ]
    },
    {
     "data": {
      "image/png": "[encoded data removed]",
      "text/plain": [
       "<Figure size 1152x576 with 2 Axes>"
      ]
     },
     "metadata": {
      "needs_background": "light"
     },
     "output_type": "display_data"
    }
   ],
   "source": [
    "# different when pdays = 0 and pdays = 3\n",
    "# => keep\n",
    "\n",
    "fig, ax =plt.subplots(1,2, figsize=(16,8))\n",
    "sns.countplot(x = 'y', hue = 'pdays', data = df[df['pdays'] != 3], ax = ax[0]).set(title = 'pdays (not 999) & y')\n",
    "sns.countplot(x = 'y', hue = 'pdays', data = df[df['pdays'] == 3], ax = ax[1]).set(title = 'pdays (999) & y')\n",
    "fig.show()"
   ]
  },
  {
   "cell_type": "markdown",
   "id": "03f923a7-221e-4b3c-a7dc-6afd33cf0dd1",
   "metadata": {},
   "source": [
    "#### poutcome"
   ]
  },
  {
   "cell_type": "code",
   "execution_count": 40,
   "id": "bacf0f20-6e50-429a-8418-5929e36a2299",
   "metadata": {},
   "outputs": [
    {
     "data": {
      "text/plain": [
       "[Text(0.5, 1.0, 'prev outcome & y')]"
      ]
     },
     "execution_count": 40,
     "metadata": {},
     "output_type": "execute_result"
    },
    {
     "data": {
      "image/png": "[encoded data removed]",
      "text/plain": [
       "<Figure size 432x288 with 1 Axes>"
      ]
     },
     "metadata": {
      "needs_background": "light"
     },
     "output_type": "display_data"
    }
   ],
   "source": [
    "# very different\n",
    "# => keep  \n",
    "sns.countplot(x = 'y', hue = 'poutcome', data = df).set(title = 'prev outcome & y')"
   ]
  },
  {
   "cell_type": "markdown",
   "id": "b19531dc-50fa-4565-8525-067ffe1dc232",
   "metadata": {},
   "source": [
    "### Converting Categorical Variables\n",
    "Based on the above analysis, we will keep\n",
    "<li>job</li>\n",
    "<li>education</li>\n",
    "<li>housing</li>\n",
    "<li>contact</li>\n",
    "<li>month</li>\n",
    "<li>day_of_week</li>\n",
    "<li>pdays</li>\n",
    "<li>poutcome</li>\n",
    "<br/>\n",
    "We will delete\n",
    "<li>marital</li>\n",
    "<li>default</li>\n",
    "<li>loan</li>"
   ]
  },
  {
   "cell_type": "code",
   "execution_count": 41,
   "id": "15b63def-5177-4c77-81a8-ee16ea68956f",
   "metadata": {
    "tags": []
   },
   "outputs": [],
   "source": [
    "job = pd.get_dummies(df['job'], drop_first = True)\n",
    "education = pd.get_dummies(df['education'], drop_first = True)\n",
    "housing = pd.get_dummies(df['housing'], drop_first = True)\n",
    "contact = pd.get_dummies(df['contact'], drop_first = True)\n",
    "month = pd.get_dummies(df['month'], drop_first = True)\n",
    "day_of_week = pd.get_dummies(df['day_of_week'], drop_first = True)\n",
    "pdays = pd.get_dummies(df['pdays'], drop_first = True)\n",
    "poutcome = pd.get_dummies(df['poutcome'], drop_first = True)\n",
    "\n",
    "# drop all columns replaced with dummies\n",
    "# drop columns we decided to delete\n",
    "df.drop(['job', 'education', 'housing', 'contact', 'month', 'day_of_week', 'pdays', 'poutcome',\n",
    "        'marital', 'default', 'loan'], axis = 1, inplace = True)\n",
    "\n",
    "# concat dummies back to the table\n",
    "df = pd.concat([df, job, education, housing, contact, month, day_of_week, pdays, poutcome], axis = 1)"
   ]
  },
  {
   "cell_type": "code",
   "execution_count": 42,
   "id": "c30d23a0-1db0-445f-a92b-c20d2254c9b7",
   "metadata": {
    "tags": []
   },
   "outputs": [],
   "source": [
    "# transform 'no/yes' to '0/1'\n",
    "# get 'y' out of the table, store it separately as label\n",
    "\n",
    "df['y']=np.where(df['y']=='no',0,1)\n",
    "label = pd.DataFrame(df['y'])"
   ]
  },
  {
   "cell_type": "code",
   "execution_count": 43,
   "id": "bcc70538-f419-44d9-b4b1-bea4bbbba827",
   "metadata": {},
   "outputs": [
    {
     "data": {
      "text/plain": [
       "Index([                'age',            'campaign',            'previous',\n",
       "              'emp.var.rate',      'cons.price.idx',       'cons.conf.idx',\n",
       "                 'euribor3m',         'nr.employed',         'blue-collar',\n",
       "              'entrepreneur',           'housemaid',          'management',\n",
       "                   'retired',       'self-employed',            'services',\n",
       "                   'student',          'technician',          'unemployed',\n",
       "                  'basic.6y',            'basic.9y',         'high.school',\n",
       "                'illiterate', 'professional.course',   'university.degree',\n",
       "                       'yes',           'telephone',                 'aug',\n",
       "                       'dec',                 'jul',                 'jun',\n",
       "                       'mar',                 'may',                 'nov',\n",
       "                       'oct',                 'sep',                 'mon',\n",
       "                       'thu',                 'tue',                 'wed',\n",
       "                           1,                     2,                     3,\n",
       "               'nonexistent',             'success'],\n",
       "      dtype='object')"
      ]
     },
     "execution_count": 43,
     "metadata": {},
     "output_type": "execute_result"
    }
   ],
   "source": [
    "# drop unknowns\n",
    "df.drop(['unknown','y'], axis = 1, inplace = True)\n",
    "df = df.apply(pd.to_numeric)\n",
    "df.columns"
   ]
  },
  {
   "cell_type": "markdown",
   "id": "168531a0-d486-40e2-918b-d441d91c9aad",
   "metadata": {},
   "source": [
    "<h1>Start Modeling</h1>"
   ]
  },
  {
   "cell_type": "markdown",
   "id": "4a5be0f6-e51f-4dcf-85af-bcfc017c992a",
   "metadata": {},
   "source": [
    "### First Algorithm -- Logistic Regression"
   ]
  },
  {
   "cell_type": "code",
   "execution_count": 44,
   "id": "e1486909-5a56-438d-a282-a519bf6ceaa8",
   "metadata": {},
   "outputs": [],
   "source": [
    "# Same seed allow us to get the same training and testing set when fitting different models\n",
    "# More convenient to compare model performance\n",
    "seed = 0"
   ]
  },
  {
   "cell_type": "code",
   "execution_count": 45,
   "id": "be25e149-a8b0-42f5-a325-5cb9141a4a2b",
   "metadata": {},
   "outputs": [
    {
     "name": "stderr",
     "output_type": "stream",
     "text": [
      "/opt/anaconda3/lib/python3.8/site-packages/sklearn/linear_model/_logistic.py:763: ConvergenceWarning: lbfgs failed to converge (status=1):\n",
      "STOP: TOTAL NO. of ITERATIONS REACHED LIMIT.\n",
      "\n",
      "Increase the number of iterations (max_iter) or scale the data as shown in:\n",
      "    https://scikit-learn.org/stable/modules/preprocessing.html\n",
      "Please also refer to the documentation for alternative solver options:\n",
      "    https://scikit-learn.org/stable/modules/linear_model.html#logistic-regression\n",
      "  n_iter_i = _check_optimize_result(\n"
     ]
    },
    {
     "data": {
      "text/plain": [
       "LogisticRegression(penalty='none')"
      ]
     },
     "execution_count": 45,
     "metadata": {},
     "output_type": "execute_result"
    }
   ],
   "source": [
    "import sklearn.linear_model as sk_lm\n",
    "import sklearn.model_selection as sk_ms\n",
    "\n",
    "X_train, X_test, Y_train, Y_test = sk_ms.train_test_split(df, \n",
    "                                                          label, \n",
    "                                                          train_size=0.7, \n",
    "                                                          random_state=seed, \n",
    "                                                          shuffle=True)\n",
    "\n",
    "lr = sk_lm.LogisticRegression(penalty='none')\n",
    "lr.fit(X_train, np.ravel(Y_train))\n"
   ]
  },
  {
   "cell_type": "code",
   "execution_count": 46,
   "id": "d842b423-f7c4-4936-a9c7-25b5f8135fc6",
   "metadata": {},
   "outputs": [],
   "source": [
    "df_train = pd.concat([X_train, Y_train], axis = 1)\n",
    "df_test = pd.concat([X_test, Y_test], axis = 1)"
   ]
  },
  {
   "cell_type": "code",
   "execution_count": 47,
   "id": "d85ccda7-4a50-4f45-914d-2061a77f1f4b",
   "metadata": {},
   "outputs": [],
   "source": [
    "# lr_score represent the probability for a 1 (that a client will subscribe)\n",
    "df_train['lr_score'] = [i[1] for i in lr.predict_proba(X_train)]\n",
    "df_test['lr_score'] = [i[1] for i in lr.predict_proba(X_test)]"
   ]
  },
  {
   "cell_type": "code",
   "execution_count": 48,
   "id": "ea07a4e0-dd0b-4339-a3fc-0e6834b59cc3",
   "metadata": {
    "tags": []
   },
   "outputs": [
    {
     "data": {
      "text/html": [
       "<div>\n",
       "<style scoped>\n",
       "    .dataframe tbody tr th:only-of-type {\n",
       "        vertical-align: middle;\n",
       "    }\n",
       "\n",
       "    .dataframe tbody tr th {\n",
       "        vertical-align: top;\n",
       "    }\n",
       "\n",
       "    .dataframe thead th {\n",
       "        text-align: right;\n",
       "    }\n",
       "</style>\n",
       "<table border=\"1\" class=\"dataframe\">\n",
       "  <thead>\n",
       "    <tr style=\"text-align: right;\">\n",
       "      <th></th>\n",
       "      <th>age</th>\n",
       "      <th>campaign</th>\n",
       "      <th>previous</th>\n",
       "      <th>emp.var.rate</th>\n",
       "      <th>cons.price.idx</th>\n",
       "      <th>cons.conf.idx</th>\n",
       "      <th>euribor3m</th>\n",
       "      <th>nr.employed</th>\n",
       "      <th>blue-collar</th>\n",
       "      <th>entrepreneur</th>\n",
       "      <th>...</th>\n",
       "      <th>thu</th>\n",
       "      <th>tue</th>\n",
       "      <th>wed</th>\n",
       "      <th>1</th>\n",
       "      <th>2</th>\n",
       "      <th>3</th>\n",
       "      <th>nonexistent</th>\n",
       "      <th>success</th>\n",
       "      <th>y</th>\n",
       "      <th>lr_score</th>\n",
       "    </tr>\n",
       "  </thead>\n",
       "  <tbody>\n",
       "    <tr>\n",
       "      <th>30368</th>\n",
       "      <td>49.0</td>\n",
       "      <td>1</td>\n",
       "      <td>1</td>\n",
       "      <td>-1.8</td>\n",
       "      <td>93.075</td>\n",
       "      <td>-47.1</td>\n",
       "      <td>1.365</td>\n",
       "      <td>5099.1</td>\n",
       "      <td>0</td>\n",
       "      <td>0</td>\n",
       "      <td>...</td>\n",
       "      <td>1</td>\n",
       "      <td>0</td>\n",
       "      <td>0</td>\n",
       "      <td>0</td>\n",
       "      <td>0</td>\n",
       "      <td>1</td>\n",
       "      <td>0</td>\n",
       "      <td>0</td>\n",
       "      <td>1</td>\n",
       "      <td>0.226074</td>\n",
       "    </tr>\n",
       "    <tr>\n",
       "      <th>3644</th>\n",
       "      <td>29.0</td>\n",
       "      <td>2</td>\n",
       "      <td>0</td>\n",
       "      <td>1.1</td>\n",
       "      <td>93.994</td>\n",
       "      <td>-36.4</td>\n",
       "      <td>4.859</td>\n",
       "      <td>5191.0</td>\n",
       "      <td>0</td>\n",
       "      <td>1</td>\n",
       "      <td>...</td>\n",
       "      <td>0</td>\n",
       "      <td>0</td>\n",
       "      <td>0</td>\n",
       "      <td>0</td>\n",
       "      <td>0</td>\n",
       "      <td>1</td>\n",
       "      <td>1</td>\n",
       "      <td>0</td>\n",
       "      <td>0</td>\n",
       "      <td>0.046082</td>\n",
       "    </tr>\n",
       "  </tbody>\n",
       "</table>\n",
       "<p>2 rows × 46 columns</p>\n",
       "</div>"
      ],
      "text/plain": [
       "        age  campaign  previous  emp.var.rate  cons.price.idx  cons.conf.idx  \\\n",
       "30368  49.0         1         1          -1.8          93.075          -47.1   \n",
       "3644   29.0         2         0           1.1          93.994          -36.4   \n",
       "\n",
       "       euribor3m  nr.employed  blue-collar  entrepreneur  ...  thu  tue  wed  \\\n",
       "30368      1.365       5099.1            0             0  ...    1    0    0   \n",
       "3644       4.859       5191.0            0             1  ...    0    0    0   \n",
       "\n",
       "       1  2  3  nonexistent  success  y  lr_score  \n",
       "30368  0  0  1            0        0  1  0.226074  \n",
       "3644   0  0  1            1        0  0  0.046082  \n",
       "\n",
       "[2 rows x 46 columns]"
      ]
     },
     "execution_count": 48,
     "metadata": {},
     "output_type": "execute_result"
    }
   ],
   "source": [
    "df_train.head(2)"
   ]
  },
  {
   "cell_type": "code",
   "execution_count": 49,
   "id": "00912318-bc51-4886-9a5b-a41112a2ecb3",
   "metadata": {},
   "outputs": [
    {
     "data": {
      "text/html": [
       "<div>\n",
       "<style scoped>\n",
       "    .dataframe tbody tr th:only-of-type {\n",
       "        vertical-align: middle;\n",
       "    }\n",
       "\n",
       "    .dataframe tbody tr th {\n",
       "        vertical-align: top;\n",
       "    }\n",
       "\n",
       "    .dataframe thead th {\n",
       "        text-align: right;\n",
       "    }\n",
       "</style>\n",
       "<table border=\"1\" class=\"dataframe\">\n",
       "  <thead>\n",
       "    <tr style=\"text-align: right;\">\n",
       "      <th></th>\n",
       "      <th>age</th>\n",
       "      <th>campaign</th>\n",
       "      <th>previous</th>\n",
       "      <th>emp.var.rate</th>\n",
       "      <th>cons.price.idx</th>\n",
       "      <th>cons.conf.idx</th>\n",
       "      <th>euribor3m</th>\n",
       "      <th>nr.employed</th>\n",
       "      <th>blue-collar</th>\n",
       "      <th>entrepreneur</th>\n",
       "      <th>...</th>\n",
       "      <th>thu</th>\n",
       "      <th>tue</th>\n",
       "      <th>wed</th>\n",
       "      <th>1</th>\n",
       "      <th>2</th>\n",
       "      <th>3</th>\n",
       "      <th>nonexistent</th>\n",
       "      <th>success</th>\n",
       "      <th>y</th>\n",
       "      <th>lr_score</th>\n",
       "    </tr>\n",
       "  </thead>\n",
       "  <tbody>\n",
       "    <tr>\n",
       "      <th>17380</th>\n",
       "      <td>43.0</td>\n",
       "      <td>1</td>\n",
       "      <td>0</td>\n",
       "      <td>1.4</td>\n",
       "      <td>93.918</td>\n",
       "      <td>-42.7</td>\n",
       "      <td>4.962</td>\n",
       "      <td>5228.1</td>\n",
       "      <td>0</td>\n",
       "      <td>0</td>\n",
       "      <td>...</td>\n",
       "      <td>0</td>\n",
       "      <td>0</td>\n",
       "      <td>0</td>\n",
       "      <td>0</td>\n",
       "      <td>0</td>\n",
       "      <td>1</td>\n",
       "      <td>1</td>\n",
       "      <td>0</td>\n",
       "      <td>0</td>\n",
       "      <td>0.055392</td>\n",
       "    </tr>\n",
       "    <tr>\n",
       "      <th>2427</th>\n",
       "      <td>47.0</td>\n",
       "      <td>2</td>\n",
       "      <td>0</td>\n",
       "      <td>1.1</td>\n",
       "      <td>93.994</td>\n",
       "      <td>-36.4</td>\n",
       "      <td>4.856</td>\n",
       "      <td>5191.0</td>\n",
       "      <td>0</td>\n",
       "      <td>0</td>\n",
       "      <td>...</td>\n",
       "      <td>0</td>\n",
       "      <td>1</td>\n",
       "      <td>0</td>\n",
       "      <td>0</td>\n",
       "      <td>0</td>\n",
       "      <td>1</td>\n",
       "      <td>1</td>\n",
       "      <td>0</td>\n",
       "      <td>0</td>\n",
       "      <td>0.047000</td>\n",
       "    </tr>\n",
       "  </tbody>\n",
       "</table>\n",
       "<p>2 rows × 46 columns</p>\n",
       "</div>"
      ],
      "text/plain": [
       "        age  campaign  previous  emp.var.rate  cons.price.idx  cons.conf.idx  \\\n",
       "17380  43.0         1         0           1.4          93.918          -42.7   \n",
       "2427   47.0         2         0           1.1          93.994          -36.4   \n",
       "\n",
       "       euribor3m  nr.employed  blue-collar  entrepreneur  ...  thu  tue  wed  \\\n",
       "17380      4.962       5228.1            0             0  ...    0    0    0   \n",
       "2427       4.856       5191.0            0             0  ...    0    1    0   \n",
       "\n",
       "       1  2  3  nonexistent  success  y  lr_score  \n",
       "17380  0  0  1            1        0  0  0.055392  \n",
       "2427   0  0  1            1        0  0  0.047000  \n",
       "\n",
       "[2 rows x 46 columns]"
      ]
     },
     "execution_count": 49,
     "metadata": {},
     "output_type": "execute_result"
    }
   ],
   "source": [
    "df_test.head(2)"
   ]
  },
  {
   "cell_type": "markdown",
   "id": "b5ed1ccc-2ca9-4659-ae63-7997ae343d5f",
   "metadata": {},
   "source": [
    "<li>Take a look at model performance</li>"
   ]
  },
  {
   "cell_type": "code",
   "execution_count": 50,
   "id": "0a84e1b4-d2c4-425c-a9a5-d2b143bf3f04",
   "metadata": {},
   "outputs": [
    {
     "data": {
      "text/plain": [
       "array([[23211,    13],\n",
       "       [ 2908,    69]])"
      ]
     },
     "execution_count": 50,
     "metadata": {},
     "output_type": "execute_result"
    }
   ],
   "source": [
    "import sklearn.metrics as sk_m\n",
    "\n",
    "# We set the threshold at 0.75 randomly, just to get an initial sense of model performance\n",
    "sk_m.confusion_matrix(df_train['y'],\n",
    "                      df_train.lr_score >= 0.75)"
   ]
  },
  {
   "cell_type": "code",
   "execution_count": 51,
   "id": "4fce10e1-af6f-4fc9-920b-bccf48073a81",
   "metadata": {},
   "outputs": [
    {
     "name": "stdout",
     "output_type": "stream",
     "text": [
      "Precision:\t\t\t0.84 identified as 1s are 1s\n",
      "Recall/TPR:\t\t\t0.02 proportions of actual 1s identified\n",
      "False Positive Rate:\t\t0.00 proportion of 0s identified as 1s\n",
      "f-score:\t\t\t0.05 tradeoff between precision and recall\n",
      "Accuracy:\t\t\t0.89 how well the model has classified\n"
     ]
    }
   ],
   "source": [
    "# confustion matrix metric analysis\n",
    "def c_m_analysis(true,pred,threshold):\n",
    "    tn, fp, fn, tp = sk_m.confusion_matrix(true,pred >= threshold).ravel()\n",
    "    precision = tp/(tp+fp)\n",
    "    recall = tp/(tp+fn)\n",
    "    fpr = fp/(fp+tn)\n",
    "    f_score = 2*precision*recall/(precision+recall)\n",
    "    accuracy = (tp+tn)/(tp+tn+fp+fn)\n",
    "    print(\"Precision:\\t\\t\\t%1.2f identified as 1s are 1s\"%(precision))\n",
    "    print(\"Recall/TPR:\\t\\t\\t%1.2f proportions of actual 1s identified\"%(recall))\n",
    "    print(\"False Positive Rate:\\t\\t%1.2f proportion of 0s identified as 1s\"%fpr)\n",
    "    print(\"f-score:\\t\\t\\t%1.2f tradeoff between precision and recall\"%(f_score))\n",
    "    print(\"Accuracy:\\t\\t\\t%1.2f how well the model has classified\"%(accuracy))\n",
    "\n",
    "c_m_analysis(df_train['y'],df_train['lr_score'],0.75)"
   ]
  },
  {
   "cell_type": "code",
   "execution_count": 52,
   "id": "5f2ac47e-579d-4ecd-a3b0-80373ee6be6d",
   "metadata": {},
   "outputs": [
    {
     "name": "stdout",
     "output_type": "stream",
     "text": [
      "0.13087604000481112\n"
     ]
    }
   ],
   "source": [
    "# Draw ROC curve to visualize the trade off between true positive rate and false positive rate\n",
    "fpr, tpr, thresh = sk_m.roc_curve(df_train['y'], df_train['lr_score'])\n",
    "\n",
    "\n",
    "# get optimal_threshold by maximizing (tpr - fpr)\n",
    "optimal_idx = np.argmax(tpr - fpr)\n",
    "optimal_threshold = thresh[optimal_idx]\n",
    "print(optimal_threshold)"
   ]
  },
  {
   "cell_type": "code",
   "execution_count": 53,
   "id": "67672e69-b22a-4b66-b080-859bae5e9e54",
   "metadata": {},
   "outputs": [
    {
     "data": {
      "image/png": "[encoded data removed]",
      "text/plain": [
       "<Figure size 360x360 with 1 Axes>"
      ]
     },
     "metadata": {
      "needs_background": "light"
     },
     "output_type": "display_data"
    }
   ],
   "source": [
    "plt.figure(figsize=(5, 5))\n",
    "plt.plot(fpr,tpr)\n",
    "plt.xlabel('False positive rate', fontsize=20)\n",
    "plt.ylabel('True positive rate', fontsize=20)\n",
    "plt.xticks(fontsize=20)\n",
    "plt.yticks(fontsize=20)\n",
    "sns.despine()"
   ]
  },
  {
   "cell_type": "code",
   "execution_count": 54,
   "id": "bd89ffee-2471-4ae3-9d1a-3951fd6641e7",
   "metadata": {},
   "outputs": [
    {
     "name": "stdout",
     "output_type": "stream",
     "text": [
      "Precision:\t\t\t0.34 identified as 1s are 1s\n",
      "Recall/TPR:\t\t\t0.62 proportions of actual 1s identified\n",
      "False Positive Rate:\t\t0.15 proportion of 0s identified as 1s\n",
      "f-score:\t\t\t0.44 tradeoff between precision and recall\n",
      "Accuracy:\t\t\t0.82 how well the model has classified\n"
     ]
    }
   ],
   "source": [
    "c_m_analysis(df_train['y'],df_train['lr_score'],optimal_threshold)"
   ]
  },
  {
   "cell_type": "markdown",
   "id": "0ff09862-dc11-451d-86be-8beaaafe0eb8",
   "metadata": {},
   "source": [
    "### Combine Statistical Metric with Company Business Value\n",
    "<li>These metrics are all good ways to evaluate our model accuracy, but they on themselves are not so useful to look at. There is no strong reasoning to support us to decide which metrics we should maximize. </li>\n",
    "<li>What I am thinking here is to combine these metric with the economic effect of this prediction. Given the context that the dataset is for a bank to predict whether a client will subscribe to a product after receiving a phone call campaign, I made some assumptions to define a revenue matrix: \n",
    "<p style=\"margin-left:40px;margin-right:100px\">\n",
    "    <br/> Given the truth is client will not accept: \n",
    "    <li> If we predict the client will not accept => then we will not call him => we have no labor cost, no return </li>\n",
    "    <li> If we predict the client will accept => then we will call him => we have labor cost, no return </li>\n",
    "<p style=\"margin-left:40px;margin-right:100px\">\n",
    "    <br/> Given the truth is client will accept: \n",
    "    <li> If we predict the client will not accept => then we will not call him => we have no labor cost, no return, but we lost potential return (Suppose there are still chances that this client subscribe to the product even without the phone call campaign, so we did not lose all potential return)</li>\n",
    "    <li> If we predict the client will accept => then we will call him => we have labor cost, also return </li>\n",
    "<p style=\"margin-left:40px;margin-right:100px\">\n",
    "    Further suppose that, <li>labor cost per call = 5</li> <li>return per successful call = 200</li> <li>potential lost return = 100 </li> \n",
    "<p style=\"margin-left:40px;margin-right:100px\">\n",
    "    Then we get the revenue matrix below \n"
   ]
  },
  {
   "cell_type": "code",
   "execution_count": 55,
   "id": "097f0df6-6b04-49d0-84ed-f8e73d2e8ec2",
   "metadata": {},
   "outputs": [
    {
     "data": {
      "text/html": [
       "<div>\n",
       "<style scoped>\n",
       "    .dataframe tbody tr th:only-of-type {\n",
       "        vertical-align: middle;\n",
       "    }\n",
       "\n",
       "    .dataframe tbody tr th {\n",
       "        vertical-align: top;\n",
       "    }\n",
       "\n",
       "    .dataframe thead th {\n",
       "        text-align: right;\n",
       "    }\n",
       "</style>\n",
       "<table border=\"1\" class=\"dataframe\">\n",
       "  <thead>\n",
       "    <tr style=\"text-align: right;\">\n",
       "      <th></th>\n",
       "      <th>0</th>\n",
       "      <th>1</th>\n",
       "    </tr>\n",
       "  </thead>\n",
       "  <tbody>\n",
       "    <tr>\n",
       "      <th>0</th>\n",
       "      <td>0</td>\n",
       "      <td>-5 * number of calls</td>\n",
       "    </tr>\n",
       "    <tr>\n",
       "      <th>1</th>\n",
       "      <td>-50</td>\n",
       "      <td>100 - 5*number of calls</td>\n",
       "    </tr>\n",
       "  </tbody>\n",
       "</table>\n",
       "</div>"
      ],
      "text/plain": [
       "    0                        1\n",
       "0   0     -5 * number of calls\n",
       "1 -50  100 - 5*number of calls"
      ]
     },
     "execution_count": 55,
     "metadata": {},
     "output_type": "execute_result"
    }
   ],
   "source": [
    "    '''\n",
    "    I understand that these numbers are strong assumptions\n",
    "    But the idea here is to combine the economic impact when determining threshold\n",
    "\n",
    "    As long as we can get valid data from the finance team, we can plug in those number to this algorithm and \n",
    "    get the appropriate threshold\n",
    "    '''\n",
    "\n",
    "revenue_matrix = pd.DataFrame([[0,\"-5 * number of calls\"],[-50,\"100 - 5*number of calls\"]])\n",
    "revenue_matrix"
   ]
  },
  {
   "cell_type": "code",
   "execution_count": 56,
   "id": "cc9fa1e8-c746-48a6-bc79-6cf08bc839ea",
   "metadata": {},
   "outputs": [
    {
     "data": {
      "text/html": [
       "<div>\n",
       "<style scoped>\n",
       "    .dataframe tbody tr th:only-of-type {\n",
       "        vertical-align: middle;\n",
       "    }\n",
       "\n",
       "    .dataframe tbody tr th {\n",
       "        vertical-align: top;\n",
       "    }\n",
       "\n",
       "    .dataframe thead th {\n",
       "        text-align: right;\n",
       "    }\n",
       "</style>\n",
       "<table border=\"1\" class=\"dataframe\">\n",
       "  <thead>\n",
       "    <tr style=\"text-align: right;\">\n",
       "      <th></th>\n",
       "      <th>0</th>\n",
       "      <th>1</th>\n",
       "    </tr>\n",
       "  </thead>\n",
       "  <tbody>\n",
       "    <tr>\n",
       "      <th>0</th>\n",
       "      <td>0</td>\n",
       "      <td>-12.828538</td>\n",
       "    </tr>\n",
       "    <tr>\n",
       "      <th>1</th>\n",
       "      <td>-100</td>\n",
       "      <td>187.171462</td>\n",
       "    </tr>\n",
       "  </tbody>\n",
       "</table>\n",
       "</div>"
      ],
      "text/plain": [
       "     0           1\n",
       "0    0  -12.828538\n",
       "1 -100  187.171462"
      ]
     },
     "execution_count": 56,
     "metadata": {},
     "output_type": "execute_result"
    }
   ],
   "source": [
    "# for simplicity, we plug in the average number of calls\n",
    "revenue_matrix = pd.DataFrame([[0,-5 * df['campaign'].mean()],[-100,200 - 5 * df['campaign'].mean()]])\n",
    "revenue_matrix"
   ]
  },
  {
   "cell_type": "markdown",
   "id": "f2468ac3-cb1d-41e1-962f-da95ce959369",
   "metadata": {},
   "source": [
    "#### Status quo revenue in both training and testing set\n",
    "<li>Establish baseline to assess model performance</li>"
   ]
  },
  {
   "cell_type": "code",
   "execution_count": 57,
   "id": "55b08ada-4ddb-41c6-ba43-85cf576232db",
   "metadata": {},
   "outputs": [
    {
     "name": "stdout",
     "output_type": "stream",
     "text": [
      "status quo revenue train: $260,180.00\n",
      "status quo revenue test: $99,035.00\n"
     ]
    }
   ],
   "source": [
    "    '''\n",
    "    current status is that we are calling every client in the dataframe \n",
    "    cost = number of times we all each client * $5 per call \n",
    "    rev = 200 if the result is yes (y=1), rev = 0 if the result is no(y=0)\n",
    "    number of times we all each client = entry in the 'campaign' column\n",
    "    '''\n",
    "\n",
    "cost_train, cost_test = df_train['campaign']*5, df_test['campaign']*5\n",
    "cost_sum_train, cost_sum_test = cost_train.sum(), cost_test.sum()\n",
    "rev_sum_train, rev_sum_test = df_train['y'].sum()*200, df_test['y'].sum()*200\n",
    "status_quo_train, status_quo_test = (rev_sum_train - cost_sum_train), (rev_sum_test - cost_sum_test)\n",
    "\n",
    "currency_format = lambda x : '${:,.2f}'.format(x)\n",
    "print('status quo revenue train: ' + currency_format(status_quo_train))\n",
    "print('status quo revenue test: ' + currency_format(status_quo_test))"
   ]
  },
  {
   "cell_type": "markdown",
   "id": "38fb3acb-9efa-4f08-bd42-42eddbeb0ee8",
   "metadata": {},
   "source": [
    "### Find the best threshold based on the training set"
   ]
  },
  {
   "cell_type": "code",
   "execution_count": 58,
   "id": "792515ce-04c2-4309-8ee1-ab6c2658b394",
   "metadata": {},
   "outputs": [
    {
     "name": "stdout",
     "output_type": "stream",
     "text": [
      "24401 6478\n"
     ]
    }
   ],
   "source": [
    "# We can try every lr_score as threshold, but it has nearly 25000 values, a little too granular (takes too long)\n",
    "# => So we go with the threshold from the ROC curve (over 6000 values)\n",
    "\n",
    "# reminder: fpr, tpr, thresh = sk_m.roc_curve(df_train['y'], df_train['lr_score'])\n",
    "\n",
    "thresh_logistic = sorted(df_train['lr_score'].unique().tolist())\n",
    "print(len(thresh_logistic), len(thresh))"
   ]
  },
  {
   "cell_type": "code",
   "execution_count": 59,
   "id": "7c635db4-9890-4b1a-82dd-2f970221dd5f",
   "metadata": {},
   "outputs": [],
   "source": [
    "revenue_logistic = []\n",
    "\n",
    "for t in thresh:\n",
    "    revenue_logistic.append((sk_m.confusion_matrix(df_train['y'],\n",
    "                                                 df_train['lr_score'] >= t)\n",
    "                           *revenue_matrix).sum().sum())"
   ]
  },
  {
   "cell_type": "code",
   "execution_count": 60,
   "id": "b3fa0acb-24d8-458c-85f3-3cf3412a8d57",
   "metadata": {},
   "outputs": [
    {
     "name": "stdout",
     "output_type": "stream",
     "text": [
      "0.040695433046249715\n"
     ]
    }
   ],
   "source": [
    "optimal_threshold_logistic = thresh[np.argmax(revenue_logistic)]\n",
    "print(optimal_threshold_logistic)"
   ]
  },
  {
   "cell_type": "markdown",
   "id": "b47957e0-5a5b-4efb-b800-5f702f12f688",
   "metadata": {},
   "source": [
    "#### Improvement in Training set"
   ]
  },
  {
   "cell_type": "code",
   "execution_count": 61,
   "id": "bdbdcd1e-ece2-4eba-98c7-ed61c2e3fce9",
   "metadata": {},
   "outputs": [
    {
     "name": "stdout",
     "output_type": "stream",
     "text": [
      "% improvement in revenue: 1.302549662398877\n",
      "263568.9737116294\n"
     ]
    }
   ],
   "source": [
    "logistic_train = (sk_m.confusion_matrix(df_train['y'],\n",
    "                                       df_train['lr_score'] >= optimal_threshold_logistic)\n",
    "                 *revenue_matrix).sum().sum()\n",
    "print('% improvement in revenue: ' + str(  (logistic_train - status_quo_train)*100\n",
    "                                        / status_quo_train) )\n",
    "print(logistic_train)"
   ]
  },
  {
   "cell_type": "markdown",
   "id": "979f63d5-5367-415a-96c9-5575c7c09601",
   "metadata": {},
   "source": [
    "#### Improvement in Testing set"
   ]
  },
  {
   "cell_type": "code",
   "execution_count": 62,
   "id": "258bcd8d-c61d-4c22-b111-c0ed0a3dbc26",
   "metadata": {},
   "outputs": [],
   "source": [
    "# Highest amount we could achieve\n",
    "perfect_class_test = (pd.DataFrame([[(1-df_test['y']).sum(), 0],\n",
    "                                    [0, df_test['y'].sum()]])\n",
    "                     *revenue_matrix).sum().sum()\n",
    "\n",
    "logistic_test = (sk_m.confusion_matrix(df_test['y'],\n",
    "                                       df_test['lr_score'] >= optimal_threshold_logistic)\n",
    "                 *revenue_matrix).sum().sum()"
   ]
  },
  {
   "cell_type": "code",
   "execution_count": 63,
   "id": "c7997532-c16c-417d-bf98-f3a7ba084eca",
   "metadata": {},
   "outputs": [
    {
     "name": "stdout",
     "output_type": "stream",
     "text": [
      "Revenue from Perfect classification: $228,349.18\n",
      "Revenue from call all: $99,035.00\n",
      "Logistic classifier: $101,556.36\n",
      "% improvement in revenue: 2.5459296595950645\n",
      "% of total value captured: 1.9497949595875343\n"
     ]
    }
   ],
   "source": [
    "print('Revenue from Perfect classification: ' + currency_format(perfect_class_test))\n",
    "print('Revenue from call all: ' + currency_format(status_quo_test))\n",
    "print('Logistic classifier: ' + currency_format(logistic_test))\n",
    "print('% improvement in revenue: ' + str(  (logistic_test - status_quo_test)*100\n",
    "                                        / status_quo_test) )\n",
    "print('% of total value captured: ' + str( (logistic_test - status_quo_test)*100\n",
    "                                          /(perfect_class_test - status_quo_test) ) )\n",
    "\n",
    "# The % improvement in revenue has no much difference in training and testing set, excluding overfitting"
   ]
  },
  {
   "cell_type": "markdown",
   "id": "82eb5cfc-d052-43be-bb5f-486be3348ae1",
   "metadata": {},
   "source": [
    "### Logistic Regression 2: Balanced\n",
    "<li>Since we discovered that the number of 'yes' and 'no' in the data is not balanced, we try if a balanced model will do a better job </li>\n",
    "<li>Evaluate this model using the same economic logic</li>"
   ]
  },
  {
   "cell_type": "code",
   "execution_count": 64,
   "id": "cc969e30-3e7e-4d89-a813-b126a01a726a",
   "metadata": {},
   "outputs": [
    {
     "name": "stderr",
     "output_type": "stream",
     "text": [
      "/opt/anaconda3/lib/python3.8/site-packages/sklearn/linear_model/_logistic.py:763: ConvergenceWarning: lbfgs failed to converge (status=1):\n",
      "STOP: TOTAL NO. of ITERATIONS REACHED LIMIT.\n",
      "\n",
      "Increase the number of iterations (max_iter) or scale the data as shown in:\n",
      "    https://scikit-learn.org/stable/modules/preprocessing.html\n",
      "Please also refer to the documentation for alternative solver options:\n",
      "    https://scikit-learn.org/stable/modules/linear_model.html#logistic-regression\n",
      "  n_iter_i = _check_optimize_result(\n"
     ]
    }
   ],
   "source": [
    "lr2 = sk_lm.LogisticRegression(penalty='none', class_weight = 'balanced')\n",
    "lr2.fit(X_train, np.ravel(Y_train))\n",
    "\n",
    "df_train['lr2_score'] = [i[1] for i in lr2.predict_proba(X_train)]\n",
    "df_test['lr2_score'] = [i[1] for i in lr2.predict_proba(X_test)]"
   ]
  },
  {
   "cell_type": "code",
   "execution_count": 65,
   "id": "c7a7cc4e-b8a0-4ebd-9c57-a46f409e4104",
   "metadata": {},
   "outputs": [],
   "source": [
    "revenue_logistic2 = []\n",
    "fpr, tpr, thresh = sk_m.roc_curve(df_train['y'], df_train['lr2_score'])\n",
    "\n",
    "for t in thresh:\n",
    "    revenue_logistic2.append((sk_m.confusion_matrix(df_train['y'],\n",
    "                                                df_train['lr2_score'] >= t)\n",
    "                           *revenue_matrix).sum().sum())"
   ]
  },
  {
   "cell_type": "code",
   "execution_count": 66,
   "id": "83fa224f-d4db-4b17-8db9-e738d3758017",
   "metadata": {},
   "outputs": [
    {
     "name": "stdout",
     "output_type": "stream",
     "text": [
      "0.22686185926279334\n",
      "% improvement in revenue (training): 4.235654110391728\n",
      "271200.3248644172\n"
     ]
    }
   ],
   "source": [
    "optimal_threshold_logistic2 = thresh[np.argmax(revenue_logistic2)]\n",
    "print(optimal_threshold_logistic2)\n",
    "\n",
    "logistic_train2 = (sk_m.confusion_matrix(df_train['y'],\n",
    "                                       df_train['lr2_score'] >= optimal_threshold_logistic2)\n",
    "                 *revenue_matrix).sum().sum()\n",
    "print('% improvement in revenue (training): ' + str(  (logistic_train2 - status_quo_train)*100\n",
    "                                        / status_quo_train) )\n",
    "print(logistic_train2)"
   ]
  },
  {
   "cell_type": "code",
   "execution_count": 67,
   "id": "1768ca6b-da1e-4e42-891c-6b1012190ffc",
   "metadata": {},
   "outputs": [
    {
     "name": "stdout",
     "output_type": "stream",
     "text": [
      "Revenue from Perfect classification: $228,349.18\n",
      "Revenue from call all: $99,035.00\n",
      "Logistic classifier2: $101,001.79\n",
      "% improvement in revenue (testing): 1.985957522606311\n",
      "% of total value captured (testing): 1.5209414576475828\n"
     ]
    }
   ],
   "source": [
    "logistic_test2 = (sk_m.confusion_matrix(df_test['y'],\n",
    "                                       df_test['lr2_score'] >= optimal_threshold_logistic2)\n",
    "                 *revenue_matrix).sum().sum()\n",
    "\n",
    "print('Revenue from Perfect classification: ' + currency_format(perfect_class_test))\n",
    "print('Revenue from call all: ' + currency_format(status_quo_test))\n",
    "print('Logistic classifier2: ' + currency_format(logistic_test2))\n",
    "print('% improvement in revenue (testing): ' + str(  (logistic_test2 - status_quo_test)*100\n",
    "                                        / status_quo_test) )\n",
    "print('% of total value captured (testing): ' + str( (logistic_test2 - status_quo_test)*100\n",
    "                                          /(perfect_class_test - status_quo_test) ) )\n",
    "\n",
    "# We see that both in training and testing set, we get similar results as the previous model"
   ]
  },
  {
   "cell_type": "markdown",
   "id": "9e7af724-835f-4eb4-a93f-e389446f8037",
   "metadata": {},
   "source": [
    "#### Logistic Regression 3\n",
    "<li>Since we have nealy 70 variables (after creating dummies), and some numeric variables (mostly those macro factors) are correlated, I decide to try Lasso penalty here to perform some variable selection</li>"
   ]
  },
  {
   "cell_type": "code",
   "execution_count": 68,
   "id": "fd8fa9be-1d5c-4007-806d-dc3ccf227ad1",
   "metadata": {},
   "outputs": [
    {
     "name": "stderr",
     "output_type": "stream",
     "text": [
      "/opt/anaconda3/lib/python3.8/site-packages/sklearn/linear_model/_sag.py:328: ConvergenceWarning: The max_iter was reached which means the coef_ did not converge\n",
      "  warnings.warn(\"The max_iter was reached which means \"\n"
     ]
    }
   ],
   "source": [
    "lr3 = sk_lm.LogisticRegression(penalty='l1', solver=\"saga\")\n",
    "lr3.fit(X_train, np.ravel(Y_train))\n",
    "\n",
    "df_train['lr3_score'] = [i[1] for i in lr3.predict_proba(X_train)]\n",
    "df_test['lr3_score'] = [i[1] for i in lr3.predict_proba(X_test)]"
   ]
  },
  {
   "cell_type": "code",
   "execution_count": 69,
   "id": "bd11b73d-5edb-4831-9087-03b88758e7b6",
   "metadata": {},
   "outputs": [],
   "source": [
    "revenue_logistic3 = []\n",
    "fpr, tpr, thresh = sk_m.roc_curve(df_train['y'], df_train['lr3_score'])\n",
    "for t in thresh:\n",
    "    revenue_logistic3.append((sk_m.confusion_matrix(df_train['y'],\n",
    "                                                 df_train['lr3_score'] >= t)\n",
    "                           *revenue_matrix).sum().sum())"
   ]
  },
  {
   "cell_type": "code",
   "execution_count": 70,
   "id": "71cca91f-d2e2-429f-b411-247a4238fd81",
   "metadata": {},
   "outputs": [
    {
     "name": "stdout",
     "output_type": "stream",
     "text": [
      "0.0819684575038792\n",
      "% improvement in revenue (training): -0.04498435216474662\n",
      "260062.95971253776\n"
     ]
    }
   ],
   "source": [
    "optimal_threshold_logistic3 = thresh[np.argmax(revenue_logistic3)]\n",
    "print(optimal_threshold_logistic3)\n",
    "\n",
    "logistic_train3 = (sk_m.confusion_matrix(df_train['y'],\n",
    "                                       df_train['lr3_score'] >= optimal_threshold_logistic3)\n",
    "                 *revenue_matrix).sum().sum()\n",
    "print('% improvement in revenue (training): ' + str(  (logistic_train3 - status_quo_train)*100\n",
    "                                        / status_quo_train) )\n",
    "print(logistic_train3)"
   ]
  },
  {
   "cell_type": "code",
   "execution_count": 71,
   "id": "90d46546-9234-4e30-b6b1-ad33f84c4d21",
   "metadata": {},
   "outputs": [
    {
     "name": "stdout",
     "output_type": "stream",
     "text": [
      "Revenue from Perfect classification: $228,349.18\n",
      "Revenue from call all: $99,035.00\n",
      "Logistic classifier3: $100,738.77\n",
      "% improvement in revenue (testing): 1.720375905492893\n",
      "% of total value captured (testing): 1.3175463259497138\n"
     ]
    }
   ],
   "source": [
    "logistic_test3 = (sk_m.confusion_matrix(df_test['y'],\n",
    "                                       df_test['lr3_score'] >= optimal_threshold_logistic3)\n",
    "                 *revenue_matrix).sum().sum()\n",
    "\n",
    "print('Revenue from Perfect classification: ' + currency_format(perfect_class_test))\n",
    "print('Revenue from call all: ' + currency_format(status_quo_test))\n",
    "print('Logistic classifier3: ' + currency_format(logistic_test3))\n",
    "print('% improvement in revenue (testing): ' + str(  (logistic_test3 - status_quo_test)*100\n",
    "                                        / status_quo_test) )\n",
    "print('% of total value captured (testing): ' + str( (logistic_test3 - status_quo_test)*100\n",
    "                                          /(perfect_class_test - status_quo_test) ) )\n",
    "\n",
    "# We see that this model under-perform the previous ones"
   ]
  },
  {
   "cell_type": "markdown",
   "id": "587acb82-88e0-420e-a291-76d139b5fc57",
   "metadata": {},
   "source": [
    "<h1>2nd Algorithm</h1>\n"
   ]
  },
  {
   "cell_type": "code",
   "execution_count": 72,
   "id": "cac37380-a736-47e1-b51a-eadc1b8600f2",
   "metadata": {},
   "outputs": [],
   "source": [
    "from sklearn.ensemble import RandomForestClassifier\n",
    "\n",
    "rf = RandomForestClassifier(n_estimators = 100, criterion = 'entropy', random_state = seed)\n",
    "rf.fit(X_train, np.ravel(Y_train))\n",
    "Y_pred = rf.predict(X_test)"
   ]
  },
  {
   "cell_type": "code",
   "execution_count": 73,
   "id": "2803a01b-b9e2-4adc-af54-ad147d7d0e3a",
   "metadata": {},
   "outputs": [
    {
     "name": "stdout",
     "output_type": "stream",
     "text": [
      "[[9663  347]\n",
      " [ 855  365]]\n",
      "-21633.91894419065\n"
     ]
    }
   ],
   "source": [
    "cm_rf = sk_m.confusion_matrix(np.ravel(Y_test), Y_pred)\n",
    "print(cm_rf)\n",
    "rf_revenue = (cm_rf*revenue_matrix).sum().sum()\n",
    "print(rf_revenue)"
   ]
  },
  {
   "cell_type": "markdown",
   "id": "ee5cc144-7db5-4c9a-8451-8465af64307d",
   "metadata": {},
   "source": [
    "<h3>Finding the best ensemble</h3>\n",
    "<li>Using a gridsearch, we can run the random forest classifier on various parameter combinations\n",
    "<li>And then use the classifier with the best score\n",
    "<li>In order to maximize revenue, the goal here would be to decrease false negative, decrease false positive, increase true positive\n",
    "<br/> => There is no single metric that can represent all purpose, but we play with some"
   ]
  },
  {
   "cell_type": "markdown",
   "id": "64528ddb-0c12-47f8-88e3-471e9b285a13",
   "metadata": {},
   "source": [
    "<li>Using recall = tp/(tp+fn)</li>\n",
    "<li>As fn decreases, tp increases, recall will increase "
   ]
  },
  {
   "cell_type": "code",
   "execution_count": 74,
   "id": "efc2d831-99c3-44c7-a280-e31efe67abdf",
   "metadata": {
    "tags": []
   },
   "outputs": [
    {
     "data": {
      "text/plain": [
       "(0.2492312898313688,\n",
       " {'max_depth': 15,\n",
       "  'min_samples_leaf': 4,\n",
       "  'min_samples_split': 4,\n",
       "  'n_estimators': 30})"
      ]
     },
     "execution_count": 74,
     "metadata": {},
     "output_type": "execute_result"
    }
   ],
   "source": [
    "from sklearn.model_selection import GridSearchCV\n",
    "parameters = {\n",
    "     'n_estimators':(10, 30, 50), #the number of trees\n",
    "     'max_depth':(4,5,6,8,10,15),\n",
    "     'min_samples_split': (2, 4, 8), # intermediate nodes\n",
    "     'min_samples_leaf': (4,8,12,16) # final leafs\n",
    "}\n",
    "\n",
    "rf2 = GridSearchCV(RandomForestClassifier(),\n",
    "                   parameters,\n",
    "                   scoring = 'recall',\n",
    "                   cv=5)\n",
    "\n",
    "rf2.fit(X_train, np.ravel(Y_train))\n",
    "rf2.best_score_, rf2.best_params_"
   ]
  },
  {
   "cell_type": "code",
   "execution_count": 75,
   "id": "ff95cdf4-7ea8-4772-99b3-48ff3d79becb",
   "metadata": {},
   "outputs": [
    {
     "name": "stdout",
     "output_type": "stream",
     "text": [
      "[[9861  149]\n",
      " [ 901  319]] -32303.75571050733\n"
     ]
    }
   ],
   "source": [
    "rf_recall = RandomForestClassifier(max_depth = 15, \n",
    "                             min_samples_leaf = 4,\n",
    "                             min_samples_split = 4,\n",
    "                             n_estimators = 30,\n",
    "                             random_state = seed)\n",
    "rf_recall.fit(X_train,np.ravel(Y_train))\n",
    "\n",
    "Y_pred = rf_recall.predict(X_test)\n",
    "cm_rf_recall = sk_m.confusion_matrix(np.ravel(Y_test),Y_pred)\n",
    "rf_revenue_recall = (cm_rf_recall*revenue_matrix).sum().sum()\n",
    "print(cm_rf_recall, rf_revenue_recall)"
   ]
  },
  {
   "cell_type": "markdown",
   "id": "d388823f-3019-4467-b4a7-79ebc556fa1e",
   "metadata": {},
   "source": [
    "<li>Using ROC</li>"
   ]
  },
  {
   "cell_type": "code",
   "execution_count": 76,
   "id": "76096980-14f3-4c52-bce4-df7f12c7ef99",
   "metadata": {
    "tags": []
   },
   "outputs": [
    {
     "data": {
      "text/plain": [
       "(0.8042193165563433,\n",
       " {'max_depth': 15,\n",
       "  'min_samples_leaf': 12,\n",
       "  'min_samples_split': 2,\n",
       "  'n_estimators': 30})"
      ]
     },
     "execution_count": 76,
     "metadata": {},
     "output_type": "execute_result"
    }
   ],
   "source": [
    "from sklearn.model_selection import GridSearchCV\n",
    "parameters = {\n",
    "     'n_estimators':(10, 30, 50), #the number of trees\n",
    "     'max_depth':(4,5,6,8,10,15),\n",
    "     'min_samples_split': (2, 4, 8), # intermediate nodes\n",
    "     'min_samples_leaf': (4,8,12,16) # final leafs\n",
    "}\n",
    "\n",
    "rf2 = GridSearchCV(RandomForestClassifier(),\n",
    "                   parameters,\n",
    "                   scoring = 'roc_auc',\n",
    "                   cv=5)\n",
    "\n",
    "rf2.fit(X_train, np.ravel(Y_train))\n",
    "rf2.best_score_, rf2.best_params_"
   ]
  },
  {
   "cell_type": "code",
   "execution_count": 77,
   "id": "4e56c113-2b04-4c9d-b327-d6ba82f09b92",
   "metadata": {},
   "outputs": [
    {
     "name": "stdout",
     "output_type": "stream",
     "text": [
      "[[9887  123]\n",
      " [ 930  290]] -40298.18612914429\n"
     ]
    }
   ],
   "source": [
    "rf_roc = RandomForestClassifier(max_depth = 15, \n",
    "                             min_samples_leaf = 12,\n",
    "                             min_samples_split = 2,\n",
    "                             n_estimators = 30,\n",
    "                             random_state = seed)\n",
    "rf_roc.fit(X_train,np.ravel(Y_train))\n",
    "\n",
    "Y_pred = rf_roc.predict(X_test)\n",
    "cm_rf_roc = sk_m.confusion_matrix(np.ravel(Y_test),Y_pred)\n",
    "rf_revenue_roc = (cm_rf_roc*revenue_matrix).sum().sum()\n",
    "print(cm_rf_roc, rf_revenue_roc)"
   ]
  },
  {
   "cell_type": "markdown",
   "id": "0e46a084-94d2-4c80-bee7-f0f310e29845",
   "metadata": {},
   "source": [
    "<h1>Model Selection</h1>\n",
    "<li>I will eithe choose Logistic given this result</li>\n",
    "<li>To guarantee the result is more reliable, we can experiment with the random seed, and its performance</li>\n",
    "\n",
    "#### Take a closer look at the confusion matrix given by these models, we see that\n",
    "<li>The main reason why random forest has high accuracy but under-perform is that\n",
    "    <br/> 1. Its accuracy comes mostly from correctly identify the clients who will not subscribe, which in an economic perspective, is not bring any revenue (revenue matrix has value 0 in the (0,0) entry).\n",
    "    <br/> 2. Too many false negative, meaning too many lost of potential customers (revenue matrix has value -50 in the (1,0) entry).\n",
    "    <br/> 3. Logistic lose accuracy in false positive. However, false positive is not adding too much cost to the company."
   ]
  },
  {
   "cell_type": "code",
   "execution_count": 78,
   "id": "9be14494-1a00-47ca-b852-be0bd9c96fc4",
   "metadata": {},
   "outputs": [
    {
     "data": {
      "text/html": [
       "<div>\n",
       "<style scoped>\n",
       "    .dataframe tbody tr th:only-of-type {\n",
       "        vertical-align: middle;\n",
       "    }\n",
       "\n",
       "    .dataframe tbody tr th {\n",
       "        vertical-align: top;\n",
       "    }\n",
       "\n",
       "    .dataframe thead th {\n",
       "        text-align: right;\n",
       "    }\n",
       "</style>\n",
       "<table border=\"1\" class=\"dataframe\">\n",
       "  <thead>\n",
       "    <tr style=\"text-align: right;\">\n",
       "      <th></th>\n",
       "      <th>Logistic</th>\n",
       "      <th>Logistic_balanced</th>\n",
       "      <th>Logictic_lasso</th>\n",
       "      <th>rf_naive</th>\n",
       "      <th>rf_recall</th>\n",
       "      <th>rf_roc</th>\n",
       "    </tr>\n",
       "  </thead>\n",
       "  <tbody>\n",
       "    <tr>\n",
       "      <th>0</th>\n",
       "      <td>101556.361438</td>\n",
       "      <td>101001.793033</td>\n",
       "      <td>100738.774278</td>\n",
       "      <td>-21633.918944</td>\n",
       "      <td>-32303.755711</td>\n",
       "      <td>-40298.186129</td>\n",
       "    </tr>\n",
       "  </tbody>\n",
       "</table>\n",
       "</div>"
      ],
      "text/plain": [
       "        Logistic  Logistic_balanced  Logictic_lasso      rf_naive  \\\n",
       "0  101556.361438      101001.793033   100738.774278 -21633.918944   \n",
       "\n",
       "      rf_recall        rf_roc  \n",
       "0 -32303.755711 -40298.186129  "
      ]
     },
     "execution_count": 78,
     "metadata": {},
     "output_type": "execute_result"
    }
   ],
   "source": [
    "model_compare = pd.DataFrame(np.array([[logistic_test, logistic_test2, logistic_test3, \n",
    "                                        rf_revenue, rf_revenue_recall, rf_revenue_roc]]),\n",
    "                             columns=['Logistic', 'Logistic_balanced', 'Logictic_lasso',\n",
    "                                      'rf_naive', 'rf_recall', 'rf_roc'])\n",
    "model_compare"
   ]
  },
  {
   "cell_type": "code",
   "execution_count": 79,
   "id": "acdb3f98-7d5b-4fbb-89c7-174ce6abc2ed",
   "metadata": {},
   "outputs": [
    {
     "name": "stdout",
     "output_type": "stream",
     "text": [
      "[[1180 8830]\n",
      " [  49 1171]]\n",
      "[[9663  347]\n",
      " [ 855  365]]\n"
     ]
    }
   ],
   "source": [
    "cm_lr2 = sk_m.confusion_matrix(df_test['y'], df_test['lr2_score'] >= optimal_threshold_logistic2)\n",
    "print(cm_lr2)\n",
    "print(cm_rf)"
   ]
  },
  {
   "cell_type": "markdown",
   "id": "490c5132-8ab1-4a03-8d21-28ad7f192db5",
   "metadata": {},
   "source": [
    "<h1>Simulation: Confirm Model Effecacy</h1>\n",
    "<li>Different seeds will lead to different train/test split, might affect model performance\n",
    "<li>Ideally we would like to try many time, but it take long (especially in the step to loop over and find optimal threshold), so I only wrote the function and did not run. "
   ]
  },
  {
   "cell_type": "code",
   "execution_count": 80,
   "id": "0e9e00c7-b48d-49cf-acd9-67d8641a9cf5",
   "metadata": {},
   "outputs": [],
   "source": [
    "# Using Logistic_balanced\n",
    "def simulator(df, label, seeds):\n",
    "    n_tests = []\n",
    "    \n",
    "    for seed in seeds:\n",
    "        X_train, X_test, Y_train, Y_test = sk_ms.train_test_split(df, \n",
    "                                                                  label, \n",
    "                                                                  train_size=0.7, \n",
    "                                                                  random_state=seed, \n",
    "                                                                  shuffle=True)\n",
    "        lr = sk_lm.LogisticRegression(penalty='none', class_weight = 'balanced')\n",
    "        lr.fit(X_train, np.ravel(Y_train))\n",
    "\n",
    "        df_train['lr_score'] = [i[1] for i in lr.predict_proba(X_train)]\n",
    "        df_test['lr_score'] = [i[1] for i in lr.predict_proba(X_test)]\n",
    "        \n",
    "        revenue_logistic = []\n",
    "        fpr, tpr, thresh = sk_m.roc_curve(df_train['y'], df_train['lr_score'])\n",
    "        \n",
    "        for t in thresh:\n",
    "            revenue_logistic.append((sk_m.confusion_matrix(df_train['y'], df_train['lr_score'] >= t)\n",
    "                                       *revenue_matrix).sum().sum())\n",
    "        \n",
    "        optimal_threshold_logistic = thresh[np.argmax(revenue_logistic)]\n",
    "        logistic_test = (sk_m.confusion_matrix(df_test['y'],\n",
    "                                       df_test['lr_score'] >= optimal_threshold_logistic)\n",
    "                         *revenue_matrix).sum().sum()\n",
    "        \n",
    "        improve_prec = (logistic_test - status_quo_test)/status_quo_test\n",
    "        n_tests.append(improve_prec)\n",
    "    return n_tests"
   ]
  },
  {
   "cell_type": "markdown",
   "id": "3a41cdff-0e04-4890-89b7-91e55c864add",
   "metadata": {},
   "source": [
    "<h1>Use Cases</h1>\n",
    "<li>Increase revenue from market campaign by \n",
    "    <br/>1. accurately targeting more potential clients (increase revenue)\n",
    "    <br/>2. missing less potential clients (decrease loss)</li>\n",
    "<li>As we identified those clients who are likely to say 'yes' to marketing campaigns, we can give them special focus when there are future campaigns, extracting more value from them. So this helps us to differentiate the clients to spend more focus on</li>"
   ]
  },
  {
   "cell_type": "markdown",
   "id": "ad469c0f-6039-4de2-93c6-553a0ebf2e0e",
   "metadata": {},
   "source": [
    "<h1>Additional Data</h1>\n",
    "<li>Financial data related to the cost per call, and the revenue from one succussful client. \n",
    "    <br>=> As we get valid numbers to populate the revenue matrix, we can run it with our model results to find the one with real big economic impact</li>\n",
    "<li>Any data that will allow us to do a better approximation for the average number of calls made to a client.\n",
    "    <br/>=> This also adds validity to the revenue matrix</li>\n",
    "<li>Any suggestions on dealing with the macro factors (i.e. cons_price_idx, etc.) \n",
    "    <br/>=> Professional insight about those index might provide idea to deal with the correlation among these variables</li>"
   ]
  },
  {
   "cell_type": "code",
   "execution_count": null,
   "id": "9d4b17cc-3357-40bb-9c76-3441b95037c1",
   "metadata": {},
   "outputs": [],
   "source": []
  }
 ],
 "metadata": {
  "kernelspec": {
   "display_name": "Python 3",
   "language": "python",
   "name": "python3"
  },
  "language_info": {
   "codemirror_mode": {
    "name": "ipython",
    "version": 3
   },
   "file_extension": ".py",
   "mimetype": "text/x-python",
   "name": "python",
   "nbconvert_exporter": "python",
   "pygments_lexer": "ipython3",
   "version": "3.8.8"
  }
 },
 "nbformat": 4,
 "nbformat_minor": 5
}
